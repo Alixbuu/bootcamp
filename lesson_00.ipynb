{
 "cells": [
  {
   "cell_type": "code",
   "execution_count": 1,
   "id": "206bc397-063a-4440-9937-e38fe80366fe",
   "metadata": {},
   "outputs": [
    {
     "name": "stdout",
     "output_type": "stream",
     "text": [
      "Hello world.\n"
     ]
    }
   ],
   "source": [
    "print(\"Hello world.\")"
   ]
  },
  {
   "cell_type": "markdown",
   "id": "a8092c4f-398a-4cca-9bbf-156401f70f26",
   "metadata": {},
   "source": [
    "Lundi 28 juin "
   ]
  },
  {
   "cell_type": "markdown",
   "id": "2c8089ce-ba32-4ecc-a85c-aeffce3efd56",
   "metadata": {},
   "source": [
    " # Python bootcamp \n",
    " ##bold##\n",
    " \n",
    " *italized*"
   ]
  },
  {
   "cell_type": "code",
   "execution_count": 3,
   "id": "38fb5b8e-8bfe-4186-ba98-a456710d5e59",
   "metadata": {},
   "outputs": [
    {
     "name": "stdout",
     "output_type": "stream",
     "text": [
      "Python implementation: CPython\n",
      "Python version       : 3.8.10\n",
      "IPython version      : 7.22.0\n",
      "\n",
      "jupyterlab: 3.0.14\n",
      "\n"
     ]
    }
   ],
   "source": [
    "%load_ext watermark\n",
    "%watermark -v -p jupyterlab\n"
   ]
  },
  {
   "cell_type": "code",
   "execution_count": null,
   "id": "a584b64a-65cb-4cdc-b22f-b7632cb06881",
   "metadata": {},
   "outputs": [],
   "source": []
  }
 ],
 "metadata": {
  "kernelspec": {
   "display_name": "Python 3",
   "language": "python",
   "name": "python3"
  },
  "language_info": {
   "codemirror_mode": {
    "name": "ipython",
    "version": 3
   },
   "file_extension": ".py",
   "mimetype": "text/x-python",
   "name": "python",
   "nbconvert_exporter": "python",
   "pygments_lexer": "ipython3",
   "version": "3.8.10"
  }
 },
 "nbformat": 4,
 "nbformat_minor": 5
}
