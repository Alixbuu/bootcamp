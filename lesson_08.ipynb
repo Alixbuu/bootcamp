{
 "cells": [
  {
   "cell_type": "markdown",
   "id": "ba47c1f4-9c21-4e22-b659-aea753b26b9f",
   "metadata": {},
   "source": [
    "# string method"
   ]
  },
  {
   "cell_type": "code",
   "execution_count": 1,
   "id": "8d03ae25-d6b6-4a62-b554-125ca6c9660b",
   "metadata": {},
   "outputs": [
    {
     "name": "stdout",
     "output_type": "stream",
     "text": [
      "u\n",
      "The Du\n",
      "TeDd bds\n",
      ".sediba eduD ehT\n"
     ]
    }
   ],
   "source": [
    "my_str = 'The Dude abides.'\n",
    "\n",
    "print(my_str[5])\n",
    "print(my_str[:6])\n",
    "print(my_str[::2])\n",
    "print(my_str[::-1])\n"
   ]
  },
  {
   "cell_type": "code",
   "execution_count": 8,
   "id": "98349a0c-2ee3-44b8-900f-c8a1670437f1",
   "metadata": {},
   "outputs": [
    {
     "data": {
      "text/plain": [
       "'THE DUDE ABIDES.'"
      ]
     },
     "execution_count": 8,
     "metadata": {},
     "output_type": "execute_result"
    }
   ],
   "source": [
    "my_str.upper()"
   ]
  },
  {
   "cell_type": "code",
   "execution_count": 9,
   "id": "fb2c21f0-fc65-4651-9a4f-9746d8713bcc",
   "metadata": {},
   "outputs": [
    {
     "data": {
      "text/plain": [
       "16"
      ]
     },
     "execution_count": 9,
     "metadata": {},
     "output_type": "execute_result"
    }
   ],
   "source": [
    "# Define sequence\n",
    "seq = 'GACAGACUCCAUGCACGUGGGUAUCAUGUC'\n",
    "\n",
    "# Count G's and C's\n",
    "seq.count('G') + seq.count('C')"
   ]
  },
  {
   "cell_type": "code",
   "execution_count": 10,
   "id": "78aad176-283a-4fdf-bebf-b337791e4465",
   "metadata": {},
   "outputs": [
    {
     "data": {
      "text/plain": [
       "2"
      ]
     },
     "execution_count": 10,
     "metadata": {},
     "output_type": "execute_result"
    }
   ],
   "source": [
    "seq.count('GAC')"
   ]
  },
  {
   "cell_type": "code",
   "execution_count": 11,
   "id": "6957f45c-b7cb-4818-a93f-aea87b32d2ef",
   "metadata": {},
   "outputs": [
    {
     "data": {
      "text/plain": [
       "3"
      ]
     },
     "execution_count": 11,
     "metadata": {},
     "output_type": "execute_result"
    }
   ],
   "source": [
    "# Substrings cannot overlap\n",
    "'AAAAAAA'.count('AA')"
   ]
  },
  {
   "cell_type": "code",
   "execution_count": 12,
   "id": "585eb0c5-b2c2-4a8b-80de-463303089a7f",
   "metadata": {},
   "outputs": [
    {
     "data": {
      "text/plain": [
       "0"
      ]
     },
     "execution_count": 12,
     "metadata": {},
     "output_type": "execute_result"
    }
   ],
   "source": [
    "# Something that's not there.\n",
    "seq.count('nonsense')"
   ]
  },
  {
   "cell_type": "code",
   "execution_count": 13,
   "id": "329eed6a-725d-4988-93a7-398f9f09186c",
   "metadata": {},
   "outputs": [
    {
     "data": {
      "text/plain": [
       "-1"
      ]
     },
     "execution_count": 13,
     "metadata": {},
     "output_type": "execute_result"
    }
   ],
   "source": [
    "seq.find(\"ATG\")"
   ]
  },
  {
   "cell_type": "code",
   "execution_count": 14,
   "id": "7dbbf285-695e-4230-8783-e6504c0d0043",
   "metadata": {},
   "outputs": [
    {
     "data": {
      "text/plain": [
       "10"
      ]
     },
     "execution_count": 14,
     "metadata": {},
     "output_type": "execute_result"
    }
   ],
   "source": [
    "seq.find('AUG')"
   ]
  },
  {
   "cell_type": "code",
   "execution_count": 15,
   "id": "61ba99a5-5688-4468-9fb6-74ecc7aa4429",
   "metadata": {},
   "outputs": [
    {
     "data": {
      "text/plain": [
       "25"
      ]
     },
     "execution_count": 15,
     "metadata": {},
     "output_type": "execute_result"
    }
   ],
   "source": [
    "seq.rfind('AUG')"
   ]
  },
  {
   "cell_type": "code",
   "execution_count": 16,
   "id": "9bf5cf50-1f40-403e-b09a-36999e35a19d",
   "metadata": {},
   "outputs": [],
   "source": [
    "def complement_base(base):\n",
    "    \"\"\"Returns the Watson-Crick complement of a base.\"\"\"\n",
    "    # Convert to lowercase\n",
    "    base = base.lower()\n",
    "\n",
    "    if base == 'a':\n",
    "        return 'T'\n",
    "    elif base == 't':\n",
    "        return 'A'\n",
    "    elif base == 'g':\n",
    "        return 'C'\n",
    "    else:\n",
    "        return 'G'"
   ]
  },
  {
   "cell_type": "code",
   "execution_count": 17,
   "id": "0173f1e0-6834-473a-b4f0-e70e9cedcb8f",
   "metadata": {},
   "outputs": [
    {
     "data": {
      "text/plain": [
       "'GACAGACTCCATGCACGTGGGTATCATGTC'"
      ]
     },
     "execution_count": 17,
     "metadata": {},
     "output_type": "execute_result"
    }
   ],
   "source": [
    "seq.replace('U', 'T')"
   ]
  },
  {
   "cell_type": "code",
   "execution_count": 18,
   "id": "1b1345af-5386-4e55-ab74-adeade274586",
   "metadata": {},
   "outputs": [
    {
     "data": {
      "text/plain": [
       "'GACAGACUCCAUGCACGUGGGUAUCAUGUC'"
      ]
     },
     "execution_count": 18,
     "metadata": {},
     "output_type": "execute_result"
    }
   ],
   "source": [
    "seq"
   ]
  },
  {
   "cell_type": "code",
   "execution_count": 22,
   "id": "5add0fc2-a5aa-4ca0-8ccc-ce0076b620d9",
   "metadata": {},
   "outputs": [],
   "source": [
    "world_tuple= (\"The\",\"best\",\"abides\")"
   ]
  },
  {
   "cell_type": "code",
   "execution_count": 20,
   "id": "4c237159-fb22-4136-99c6-ad3b03ce066a",
   "metadata": {},
   "outputs": [
    {
     "data": {
      "text/plain": [
       "'The best abides'"
      ]
     },
     "execution_count": 20,
     "metadata": {},
     "output_type": "execute_result"
    }
   ],
   "source": [
    "' '.join(world_tuple)"
   ]
  },
  {
   "cell_type": "code",
   "execution_count": 24,
   "id": "fde85312-6c23-45ef-ae99-eb702819cd5d",
   "metadata": {},
   "outputs": [
    {
     "data": {
      "text/plain": [
       "'The * best * abides'"
      ]
     },
     "execution_count": 24,
     "metadata": {},
     "output_type": "execute_result"
    }
   ],
   "source": [
    "' * '.join(world_tuple)"
   ]
  },
  {
   "cell_type": "code",
   "execution_count": 25,
   "id": "9bc226c3-a5ee-402c-b089-dce401f409b9",
   "metadata": {},
   "outputs": [
    {
     "name": "stdout",
     "output_type": "stream",
     "text": [
      "\n",
      "Let's do a Mad Lib!\n",
      "During this bootcamp, I feel truculent.\n",
      "The instructors give us haircuts.\n",
      "\n"
     ]
    }
   ],
   "source": [
    "my_str = \"\"\"\n",
    "Let's do a Mad Lib!\n",
    "During this bootcamp, I feel {adjective}.\n",
    "The instructors give us {plural_noun}.\n",
    "\"\"\".format(adjective='truculent', plural_noun='haircuts')\n",
    "\n",
    "print(my_str)\n"
   ]
  },
  {
   "cell_type": "code",
   "execution_count": 26,
   "id": "5ecf521c-b959-4f00-9fae-871391d464a2",
   "metadata": {},
   "outputs": [
    {
     "name": "stdout",
     "output_type": "stream",
     "text": [
      "There are 50 states in the US.\n",
      "Your file number is 23.\n",
      "π is approximately 3.140000.\n",
      "e is approximately 2.71828183.\n",
      "Avogadro's number is approximately 6.022000e+23.\n",
      "ε₀ is approximately 8.8541878170000005e-12 F/m.\n",
      "That rug really tied the room together.\n"
     ]
    }
   ],
   "source": [
    "print('There are {n:d} states in the US.'.format(n=50))\n",
    "print('Your file number is {n:d}.'.format(n=23))\n",
    "print('π is approximately {pi:f}.'.format(pi=3.14))\n",
    "print('e is approximately {e:.8f}.'.format(e=2.7182818284590451))\n",
    "print(\"Avogadro's number is approximately {N_A:e}.\".format(N_A=6.022e23))\n",
    "print('ε₀ is approximately {eps_0:.16e} F/m.'.format(eps_0=8.854187817e-12))\n",
    "print('That {thing:s} really tied the room together.'.format(thing='rug'))"
   ]
  },
  {
   "cell_type": "code",
   "execution_count": 27,
   "id": "39203828-12da-4273-bb68-01c9ad2b388e",
   "metadata": {},
   "outputs": [
    {
     "ename": "NameError",
     "evalue": "name 'n_states' is not defined",
     "output_type": "error",
     "traceback": [
      "\u001b[0;31m---------------------------------------------------------------------------\u001b[0m",
      "\u001b[0;31mNameError\u001b[0m                                 Traceback (most recent call last)",
      "\u001b[0;32m<ipython-input-27-64f0497a1b61>\u001b[0m in \u001b[0;36m<module>\u001b[0;34m\u001b[0m\n\u001b[0;32m----> 1\u001b[0;31m \u001b[0mprint\u001b[0m\u001b[0;34m(\u001b[0m\u001b[0;34mf'There are {n_states} states in the US.'\u001b[0m\u001b[0;34m)\u001b[0m\u001b[0;34m\u001b[0m\u001b[0;34m\u001b[0m\u001b[0m\n\u001b[0m\u001b[1;32m      2\u001b[0m \u001b[0mprint\u001b[0m\u001b[0;34m(\u001b[0m\u001b[0;34mf'Your file number is {file_number}.'\u001b[0m\u001b[0;34m)\u001b[0m\u001b[0;34m\u001b[0m\u001b[0;34m\u001b[0m\u001b[0m\n\u001b[1;32m      3\u001b[0m \u001b[0mprint\u001b[0m\u001b[0;34m(\u001b[0m\u001b[0;34mf'π is approximately {pi}.'\u001b[0m\u001b[0;34m)\u001b[0m\u001b[0;34m\u001b[0m\u001b[0;34m\u001b[0m\u001b[0m\n\u001b[1;32m      4\u001b[0m \u001b[0mprint\u001b[0m\u001b[0;34m(\u001b[0m\u001b[0;34mf'e is approximately {e:.8f}.'\u001b[0m\u001b[0;34m)\u001b[0m\u001b[0;34m\u001b[0m\u001b[0;34m\u001b[0m\u001b[0m\n\u001b[1;32m      5\u001b[0m \u001b[0mprint\u001b[0m\u001b[0;34m(\u001b[0m\u001b[0;34mf\"Avogadro's number is approximately {N_A}.\"\u001b[0m\u001b[0;34m)\u001b[0m\u001b[0;34m\u001b[0m\u001b[0;34m\u001b[0m\u001b[0m\n",
      "\u001b[0;31mNameError\u001b[0m: name 'n_states' is not defined"
     ]
    }
   ],
   "source": [
    "print(f'There are {n_states} states in the US.')\n",
    "print(f'Your file number is {file_number}.')\n",
    "print(f'π is approximately {pi}.')\n",
    "print(f'e is approximately {e:.8f}.')\n",
    "print(f\"Avogadro's number is approximately {N_A}.\")\n",
    "print(f'ε₀ is approximately {eps_0} F/m.')\n",
    "print(f'That {thing} really tied the room together.')"
   ]
  },
  {
   "cell_type": "code",
   "execution_count": null,
   "id": "fa092527-789e-4f49-bdd6-a62bc0e8c403",
   "metadata": {},
   "outputs": [],
   "source": []
  }
 ],
 "metadata": {
  "kernelspec": {
   "display_name": "Python 3",
   "language": "python",
   "name": "python3"
  },
  "language_info": {
   "codemirror_mode": {
    "name": "ipython",
    "version": 3
   },
   "file_extension": ".py",
   "mimetype": "text/x-python",
   "name": "python",
   "nbconvert_exporter": "python",
   "pygments_lexer": "ipython3",
   "version": "3.8.10"
  }
 },
 "nbformat": 4,
 "nbformat_minor": 5
}
