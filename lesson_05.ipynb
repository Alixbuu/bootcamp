{
 "cells": [
  {
   "cell_type": "markdown",
   "id": "2f69099f-3a2f-4e50-8e43-33abdc5d4932",
   "metadata": {},
   "source": [
    "# List"
   ]
  },
  {
   "cell_type": "code",
   "execution_count": 1,
   "id": "8a5fa9a0-2f37-43d1-a7e4-41462aa5db77",
   "metadata": {},
   "outputs": [
    {
     "data": {
      "text/plain": [
       "list"
      ]
     },
     "execution_count": 1,
     "metadata": {},
     "output_type": "execute_result"
    }
   ],
   "source": [
    "my_list_1 = [1, 2, 3, 4]\n",
    "type(my_list_1)"
   ]
  },
  {
   "cell_type": "code",
   "execution_count": 2,
   "id": "37143ed3-de1f-417d-a769-e68d427d7bd8",
   "metadata": {},
   "outputs": [
    {
     "data": {
      "text/plain": [
       "[1, 2.4, 'a string', ['a string in another list', 5]]"
      ]
     },
     "execution_count": 2,
     "metadata": {},
     "output_type": "execute_result"
    }
   ],
   "source": [
    "my_list_2 = [1, 2.4, 'a string', ['a string in another list', 5]]\n",
    "my_list_2"
   ]
  },
  {
   "cell_type": "code",
   "execution_count": 3,
   "id": "221e8ee8-f228-4f16-bffa-59dc74595f4e",
   "metadata": {},
   "outputs": [
    {
     "data": {
      "text/plain": [
       "[5, 15, 16]"
      ]
     },
     "execution_count": 3,
     "metadata": {},
     "output_type": "execute_result"
    }
   ],
   "source": [
    "my_list_3 = [2+3, 5*3, 4**2]\n",
    "my_list_3"
   ]
  },
  {
   "cell_type": "code",
   "execution_count": 5,
   "id": "b8db5425-2992-4389-94aa-ca22fc5b818c",
   "metadata": {},
   "outputs": [],
   "source": [
    "my_str=\"A string\""
   ]
  },
  {
   "cell_type": "code",
   "execution_count": 6,
   "id": "a0a85894-8feb-4d99-ac77-6cd41aaa945c",
   "metadata": {},
   "outputs": [
    {
     "data": {
      "text/plain": [
       "['A', ' ', 's', 't', 'r', 'i', 'n', 'g']"
      ]
     },
     "execution_count": 6,
     "metadata": {},
     "output_type": "execute_result"
    }
   ],
   "source": [
    "list(my_str)"
   ]
  },
  {
   "cell_type": "markdown",
   "id": "9841a57f-31f6-49c3-a935-d8b5a9c067ce",
   "metadata": {},
   "source": [
    "# list operators"
   ]
  },
  {
   "cell_type": "code",
   "execution_count": 7,
   "id": "4d86654a-0cbe-42ec-bef9-2b2aecf6bbb0",
   "metadata": {},
   "outputs": [
    {
     "data": {
      "text/plain": [
       "[1, 2, 3, 4, 5, 6]"
      ]
     },
     "execution_count": 7,
     "metadata": {},
     "output_type": "execute_result"
    }
   ],
   "source": [
    "[1, 2, 3] + [4, 5, 6]\n"
   ]
  },
  {
   "cell_type": "code",
   "execution_count": 8,
   "id": "68cd3eb8-2d11-4ce8-a1e5-277de6ee3095",
   "metadata": {},
   "outputs": [
    {
     "data": {
      "text/plain": [
       "[1, 2, 3, 1, 2, 3, 1, 2, 3]"
      ]
     },
     "execution_count": 8,
     "metadata": {},
     "output_type": "execute_result"
    }
   ],
   "source": [
    "[1, 2, 3] * 3"
   ]
  },
  {
   "cell_type": "code",
   "execution_count": 9,
   "id": "3c611035-a834-4767-b21d-c0a5ccccaa5d",
   "metadata": {},
   "outputs": [
    {
     "data": {
      "text/plain": [
       "True"
      ]
     },
     "execution_count": 9,
     "metadata": {},
     "output_type": "execute_result"
    }
   ],
   "source": [
    "1 in my_list_2"
   ]
  },
  {
   "cell_type": "code",
   "execution_count": 10,
   "id": "d9c02f15-0634-4e6f-8ed8-77f6258f12bd",
   "metadata": {},
   "outputs": [
    {
     "data": {
      "text/plain": [
       "True"
      ]
     },
     "execution_count": 10,
     "metadata": {},
     "output_type": "execute_result"
    }
   ],
   "source": [
    "['a string in another list', 5] in my_list_2"
   ]
  },
  {
   "cell_type": "code",
   "execution_count": 12,
   "id": "a7a46367-be43-416f-87c5-5478eaaa2e0c",
   "metadata": {},
   "outputs": [
    {
     "data": {
      "text/plain": [
       "False"
      ]
     },
     "execution_count": 12,
     "metadata": {},
     "output_type": "execute_result"
    }
   ],
   "source": [
    "'a string in another list' in my_list_2"
   ]
  },
  {
   "cell_type": "code",
   "execution_count": 13,
   "id": "ab19b3d9-cf16-4740-9caa-394450ad4a3a",
   "metadata": {},
   "outputs": [
    {
     "data": {
      "text/plain": [
       "True"
      ]
     },
     "execution_count": 13,
     "metadata": {},
     "output_type": "execute_result"
    }
   ],
   "source": [
    "7 not in my_list_2"
   ]
  },
  {
   "cell_type": "code",
   "execution_count": 14,
   "id": "a47c9072-ad3b-4786-b597-ea60291c0811",
   "metadata": {},
   "outputs": [
    {
     "name": "stdout",
     "output_type": "stream",
     "text": [
      "This codon is neither a start nor stop codon.\n"
     ]
    }
   ],
   "source": [
    "# Make a list of stop codons\n",
    "stop_codons = ['UAA', 'UAG', 'UGA']\n",
    "\n",
    "# Specify codon\n",
    "codon = 'UGG'\n",
    "\n",
    "# Check to see if it is a start or stop codon\n",
    "if codon == 'AUG':\n",
    "    print('This codon is the start codon.')\n",
    "elif codon in stop_codons:\n",
    "    print('This codon is a stop codon.')\n",
    "else:\n",
    "    print('This codon is neither a start nor stop codon.')"
   ]
  },
  {
   "cell_type": "markdown",
   "id": "44acd2d6-7f46-43dd-8b3e-c6ffd2cc491c",
   "metadata": {},
   "source": [
    "# List indexing"
   ]
  },
  {
   "cell_type": "code",
   "execution_count": 15,
   "id": "20c0f2c5-4428-481a-ae73-0476e4bb56e0",
   "metadata": {},
   "outputs": [],
   "source": [
    "my_list = [1, 2.4, 'a string', ['a string in another list', 5]]"
   ]
  },
  {
   "cell_type": "code",
   "execution_count": 16,
   "id": "00d7114d-04e3-45fc-a49d-65b072a916f4",
   "metadata": {},
   "outputs": [
    {
     "data": {
      "text/plain": [
       "'a string'"
      ]
     },
     "execution_count": 16,
     "metadata": {},
     "output_type": "execute_result"
    }
   ],
   "source": [
    "my_list[2]"
   ]
  },
  {
   "cell_type": "code",
   "execution_count": 17,
   "id": "6a08d4dc-0020-492a-a44e-aabd31a335ca",
   "metadata": {},
   "outputs": [
    {
     "data": {
      "text/plain": [
       "1"
      ]
     },
     "execution_count": 17,
     "metadata": {},
     "output_type": "execute_result"
    }
   ],
   "source": [
    "my_list[0]"
   ]
  },
  {
   "cell_type": "code",
   "execution_count": 19,
   "id": "020c3a9f-38fa-4e58-897e-98979e0d29ad",
   "metadata": {},
   "outputs": [
    {
     "data": {
      "text/plain": [
       "['a string in another list', 5]"
      ]
     },
     "execution_count": 19,
     "metadata": {},
     "output_type": "execute_result"
    }
   ],
   "source": [
    "my_list[3]"
   ]
  },
  {
   "cell_type": "code",
   "execution_count": 20,
   "id": "8e03b69e-aa92-470c-8583-8945bb1d02ff",
   "metadata": {},
   "outputs": [
    {
     "data": {
      "text/plain": [
       "'a string in another list'"
      ]
     },
     "execution_count": 20,
     "metadata": {},
     "output_type": "execute_result"
    }
   ],
   "source": [
    "my_list[3][0]"
   ]
  },
  {
   "cell_type": "code",
   "execution_count": 57,
   "id": "62f0344a-41c0-4f8a-ac26-5beb8ba1b0dd",
   "metadata": {},
   "outputs": [
    {
     "data": {
      "text/plain": [
       "11"
      ]
     },
     "execution_count": 57,
     "metadata": {},
     "output_type": "execute_result"
    }
   ],
   "source": [
    "my_list = [0, 1, 2, 3, 4, 5, 6, 7, 8, 9, 10]\n",
    "my_list[0:12]\n",
    "len(my_list)"
   ]
  },
  {
   "cell_type": "code",
   "execution_count": 55,
   "id": "7239efcf-7120-42bf-a7ce-0e6e5e1ca7b5",
   "metadata": {},
   "outputs": [
    {
     "ename": "IndexError",
     "evalue": "list index out of range",
     "output_type": "error",
     "traceback": [
      "\u001b[0;31m---------------------------------------------------------------------------\u001b[0m",
      "\u001b[0;31mIndexError\u001b[0m                                Traceback (most recent call last)",
      "\u001b[0;32m<ipython-input-55-9222be07b11d>\u001b[0m in \u001b[0;36m<module>\u001b[0;34m\u001b[0m\n\u001b[0;32m----> 1\u001b[0;31m \u001b[0mmy_list\u001b[0m\u001b[0;34m[\u001b[0m\u001b[0;36m4\u001b[0m\u001b[0;34m]\u001b[0m\u001b[0;34m\u001b[0m\u001b[0;34m\u001b[0m\u001b[0m\n\u001b[0m\u001b[1;32m      2\u001b[0m \u001b[0mlen\u001b[0m\u001b[0;34m(\u001b[0m\u001b[0mmy_list\u001b[0m\u001b[0;34m)\u001b[0m\u001b[0;34m\u001b[0m\u001b[0;34m\u001b[0m\u001b[0m\n",
      "\u001b[0;31mIndexError\u001b[0m: list index out of range"
     ]
    }
   ],
   "source": [
    "my_list[4]\n",
    "len(my_list)"
   ]
  },
  {
   "cell_type": "code",
   "execution_count": 23,
   "id": "0cc01977-1dca-4250-bf43-211eb5fb052f",
   "metadata": {},
   "outputs": [
    {
     "data": {
      "text/plain": [
       "10"
      ]
     },
     "execution_count": 23,
     "metadata": {},
     "output_type": "execute_result"
    }
   ],
   "source": [
    "my_list[-1]"
   ]
  },
  {
   "cell_type": "code",
   "execution_count": 24,
   "id": "a6e5bf20-2fb0-4354-a335-96ad9eba073f",
   "metadata": {},
   "outputs": [
    {
     "data": {
      "text/plain": [
       "6"
      ]
     },
     "execution_count": 24,
     "metadata": {},
     "output_type": "execute_result"
    }
   ],
   "source": [
    "my_list[-5]"
   ]
  },
  {
   "cell_type": "markdown",
   "id": "d79f5c77-af1e-4f82-bd86-fd9da2331d33",
   "metadata": {},
   "source": [
    "# slicing"
   ]
  },
  {
   "cell_type": "code",
   "execution_count": 25,
   "id": "ee5710cc-f74b-426d-8de4-d982091f614a",
   "metadata": {},
   "outputs": [
    {
     "data": {
      "text/plain": [
       "[0, 1, 2, 3, 4]"
      ]
     },
     "execution_count": 25,
     "metadata": {},
     "output_type": "execute_result"
    }
   ],
   "source": [
    "my_list[0:5]\n"
   ]
  },
  {
   "cell_type": "code",
   "execution_count": 26,
   "id": "c1fb1395-f20f-4e30-8708-760acc89f741",
   "metadata": {},
   "outputs": [
    {
     "data": {
      "text/plain": [
       "[3, 4, 5, 6, 7, 8, 9, 10]"
      ]
     },
     "execution_count": 26,
     "metadata": {},
     "output_type": "execute_result"
    }
   ],
   "source": [
    "my_list[3:1000]"
   ]
  },
  {
   "cell_type": "code",
   "execution_count": 27,
   "id": "e9ef9a76-88e4-4867-b9aa-e7fcd991b3f2",
   "metadata": {},
   "outputs": [
    {
     "data": {
      "text/plain": [
       "[0, 1, 2, 3, 4, 5, 6, 7]"
      ]
     },
     "execution_count": 27,
     "metadata": {},
     "output_type": "execute_result"
    }
   ],
   "source": [
    "my_list[0:-3]"
   ]
  },
  {
   "cell_type": "code",
   "execution_count": 28,
   "id": "acdf3224-b67e-4a0e-afaf-2579fd4e64f4",
   "metadata": {},
   "outputs": [
    {
     "data": {
      "text/plain": [
       "[0, 2, 4, 6, 8, 10]"
      ]
     },
     "execution_count": 28,
     "metadata": {},
     "output_type": "execute_result"
    }
   ],
   "source": [
    "my_list[0::2]"
   ]
  },
  {
   "cell_type": "code",
   "execution_count": 29,
   "id": "f573dcc2-d3e0-49f5-a5a2-4c787869d13b",
   "metadata": {},
   "outputs": [
    {
     "data": {
      "text/plain": [
       "[0, 2, 4, 6, 8, 10]"
      ]
     },
     "execution_count": 29,
     "metadata": {},
     "output_type": "execute_result"
    }
   ],
   "source": [
    "my_list[::2]"
   ]
  },
  {
   "cell_type": "code",
   "execution_count": 30,
   "id": "2550240f-10d8-4eb8-89f8-50daa00fd00f",
   "metadata": {},
   "outputs": [
    {
     "data": {
      "text/plain": [
       "[0, 2, 4, 6, 8]"
      ]
     },
     "execution_count": 30,
     "metadata": {},
     "output_type": "execute_result"
    }
   ],
   "source": [
    "my_list[0:10:2]"
   ]
  },
  {
   "cell_type": "code",
   "execution_count": 31,
   "id": "68eb7204-c33b-47a1-92c2-613bbcdb1ff1",
   "metadata": {},
   "outputs": [
    {
     "data": {
      "text/plain": [
       "[10, 9, 8, 7, 6, 5, 4, 3, 2, 1, 0]"
      ]
     },
     "execution_count": 31,
     "metadata": {},
     "output_type": "execute_result"
    }
   ],
   "source": [
    "my_list[::-1]"
   ]
  },
  {
   "cell_type": "code",
   "execution_count": 32,
   "id": "7b0198ed-f1b0-4a96-aba0-6a96341eb20e",
   "metadata": {},
   "outputs": [
    {
     "name": "stdout",
     "output_type": "stream",
     "text": [
      "[2, 4, 6, 8, 10]\n",
      "[2, 4, 6, 8]\n",
      "[9, 7, 5, 3, 1]\n",
      "[9, 7, 5, 3]\n",
      "[]\n"
     ]
    }
   ],
   "source": [
    "print(my_list[2::2])\n",
    "print(my_list[2:-1:2])\n",
    "print(my_list[-2::-2])\n",
    "print(my_list[-2:2:-2])\n",
    "print(my_list[2:2:-2])"
   ]
  },
  {
   "cell_type": "code",
   "execution_count": 33,
   "id": "dd81d794-c557-4b79-88bf-1386ce3ceb90",
   "metadata": {},
   "outputs": [
    {
     "data": {
      "text/plain": [
       "[2, 4, 6, 8]"
      ]
     },
     "execution_count": 33,
     "metadata": {},
     "output_type": "execute_result"
    }
   ],
   "source": [
    "# Extract evens\n",
    "evens = my_list[::2]\n",
    "\n",
    "# Cut off end values\n",
    "evens_without_end_values = evens[1:-1]\n",
    "\n",
    "evens_without_end_values\n"
   ]
  },
  {
   "cell_type": "markdown",
   "id": "09ac849c-f7b8-4946-b873-cb518237bc6b",
   "metadata": {},
   "source": [
    "# Mutability"
   ]
  },
  {
   "cell_type": "code",
   "execution_count": 34,
   "id": "d250652c-064e-436f-adb4-1861dcc090a0",
   "metadata": {},
   "outputs": [
    {
     "data": {
      "text/plain": [
       "[1, 2, 3, 'four', 5, 6, 7, 8, 9, 10]"
      ]
     },
     "execution_count": 34,
     "metadata": {},
     "output_type": "execute_result"
    }
   ],
   "source": [
    "my_list = [1, 2, 3, 4, 5, 6, 7, 8, 9, 10]\n",
    "my_list[3] = 'four'\n",
    "\n",
    "my_list"
   ]
  },
  {
   "cell_type": "code",
   "execution_count": 35,
   "id": "a9c56709-8c7d-412f-a764-98b11ec126c8",
   "metadata": {},
   "outputs": [
    {
     "name": "stdout",
     "output_type": "stream",
     "text": [
      "4420602000\n",
      "4420600688\n"
     ]
    }
   ],
   "source": [
    "a = 689\n",
    "print(id(a))\n",
    "\n",
    "a = 690\n",
    "print(id(a))"
   ]
  },
  {
   "cell_type": "code",
   "execution_count": 36,
   "id": "77929fdb-89ad-4cd3-9003-8f6272353166",
   "metadata": {},
   "outputs": [
    {
     "name": "stdout",
     "output_type": "stream",
     "text": [
      "4418155520\n",
      "4418155520\n"
     ]
    }
   ],
   "source": [
    "print(id(my_list))\n",
    "\n",
    "my_list[0] = 'zero'\n",
    "print(id(my_list))"
   ]
  },
  {
   "cell_type": "markdown",
   "id": "d0b27039-9b03-42af-92b2-221a08e5e045",
   "metadata": {},
   "source": [
    "# Aliasing"
   ]
  },
  {
   "cell_type": "code",
   "execution_count": 37,
   "id": "8a4b9380-9cb3-417a-8613-f1dfcc62962f",
   "metadata": {},
   "outputs": [
    {
     "data": {
      "text/plain": [
       "['a', 2, 3, 4, 5, 6, 7, 8, 9, 10]"
      ]
     },
     "execution_count": 37,
     "metadata": {},
     "output_type": "execute_result"
    }
   ],
   "source": [
    "my_list = [1, 2, 3, 4, 5, 6, 7, 8, 9, 10]\n",
    "my_list_2 = my_list     # copy of my_list?\n",
    "my_list_2[0] = 'a'\n",
    "\n",
    "my_list_2"
   ]
  },
  {
   "cell_type": "code",
   "execution_count": 38,
   "id": "5341bedc-a2a2-4356-96dd-08e85f78fabc",
   "metadata": {},
   "outputs": [
    {
     "data": {
      "text/plain": [
       "['a', 2, 3, 4, 5, 6, 7, 8, 9, 10]"
      ]
     },
     "execution_count": 38,
     "metadata": {},
     "output_type": "execute_result"
    }
   ],
   "source": [
    "my_list"
   ]
  },
  {
   "cell_type": "code",
   "execution_count": 39,
   "id": "ee47062e-6436-4197-a4bc-d6bbf02b40cb",
   "metadata": {},
   "outputs": [
    {
     "data": {
      "text/plain": [
       "['a', 2, 3, 4, 5, 6, 7, 8, 9, 10]"
      ]
     },
     "execution_count": 39,
     "metadata": {},
     "output_type": "execute_result"
    }
   ],
   "source": [
    "my_list = [1, 2, 3, 4, 5, 6, 7, 8, 9, 10]\n",
    "my_list_2 = my_list[:]\n",
    "my_list_2[0] = 'a'\n",
    "\n",
    "my_list_2"
   ]
  },
  {
   "cell_type": "code",
   "execution_count": 40,
   "id": "fefb81c2-b60e-406b-9a27-bc7fe87f19bf",
   "metadata": {},
   "outputs": [
    {
     "data": {
      "text/plain": [
       "[1, 2, 3, 4, 5, 6, 7, 8, 9, 10]"
      ]
     },
     "execution_count": 40,
     "metadata": {},
     "output_type": "execute_result"
    }
   ],
   "source": [
    "my_list"
   ]
  },
  {
   "cell_type": "markdown",
   "id": "4b8c64ac-b40a-495d-bf8b-0da2a3d8d98c",
   "metadata": {},
   "source": [
    "# tuple"
   ]
  },
  {
   "cell_type": "code",
   "execution_count": 41,
   "id": "96469f19-7096-452f-a995-0f93fd9ad7b8",
   "metadata": {},
   "outputs": [
    {
     "data": {
      "text/plain": [
       "(tuple, int)"
      ]
     },
     "execution_count": 41,
     "metadata": {},
     "output_type": "execute_result"
    }
   ],
   "source": [
    "my_tuple = (0,)\n",
    "\n",
    "not_a_tuple = (0) # this is just the number 0 (normal use of parantheses)\n",
    "\n",
    "type(my_tuple), type(not_a_tuple)\n"
   ]
  },
  {
   "cell_type": "code",
   "execution_count": 42,
   "id": "24d979c5-6210-434b-84e1-d0b04fa57c7d",
   "metadata": {},
   "outputs": [
    {
     "data": {
      "text/plain": [
       "(1, 2.4, 'a string', ['a sting in another list', 5])"
      ]
     },
     "execution_count": 42,
     "metadata": {},
     "output_type": "execute_result"
    }
   ],
   "source": [
    "my_list = [1, 2.4, 'a string', ['a sting in another list', 5]]\n",
    "\n",
    "my_tuple = tuple(my_list)\n",
    "\n",
    "my_tuple"
   ]
  },
  {
   "cell_type": "code",
   "execution_count": 43,
   "id": "dceed2f7-52a6-4189-a59c-110a77f801d1",
   "metadata": {},
   "outputs": [
    {
     "ename": "TypeError",
     "evalue": "'tuple' object does not support item assignment",
     "output_type": "error",
     "traceback": [
      "\u001b[0;31m---------------------------------------------------------------------------\u001b[0m",
      "\u001b[0;31mTypeError\u001b[0m                                 Traceback (most recent call last)",
      "\u001b[0;32m<ipython-input-43-9a5ea503b98a>\u001b[0m in \u001b[0;36m<module>\u001b[0;34m\u001b[0m\n\u001b[0;32m----> 1\u001b[0;31m \u001b[0mmy_tuple\u001b[0m\u001b[0;34m[\u001b[0m\u001b[0;36m1\u001b[0m\u001b[0;34m]\u001b[0m \u001b[0;34m=\u001b[0m \u001b[0;36m7\u001b[0m\u001b[0;34m\u001b[0m\u001b[0;34m\u001b[0m\u001b[0m\n\u001b[0m",
      "\u001b[0;31mTypeError\u001b[0m: 'tuple' object does not support item assignment"
     ]
    }
   ],
   "source": [
    "my_tuple[1] = 7"
   ]
  },
  {
   "cell_type": "code",
   "execution_count": 44,
   "id": "2b4c7983-926b-4886-8ce1-931ab1ec83c6",
   "metadata": {},
   "outputs": [],
   "source": [
    "my_tuple[3][0]=7"
   ]
  },
  {
   "cell_type": "code",
   "execution_count": 45,
   "id": "0a5c21a9-8e0f-4a47-9c16-2acc646f0cb7",
   "metadata": {},
   "outputs": [
    {
     "data": {
      "text/plain": [
       "(1, 2.4, 'a string', [7, 5])"
      ]
     },
     "execution_count": 45,
     "metadata": {},
     "output_type": "execute_result"
    }
   ],
   "source": [
    "my_tuple"
   ]
  },
  {
   "cell_type": "code",
   "execution_count": 46,
   "id": "054a6a23-825e-46cd-bad7-ef2bcacedbfe",
   "metadata": {},
   "outputs": [
    {
     "ename": "TypeError",
     "evalue": "'tuple' object does not support item assignment",
     "output_type": "error",
     "traceback": [
      "\u001b[0;31m---------------------------------------------------------------------------\u001b[0m",
      "\u001b[0;31mTypeError\u001b[0m                                 Traceback (most recent call last)",
      "\u001b[0;32m<ipython-input-46-dba4a536c50b>\u001b[0m in \u001b[0;36m<module>\u001b[0;34m\u001b[0m\n\u001b[0;32m----> 1\u001b[0;31m \u001b[0mmy_tuple\u001b[0m\u001b[0;34m[\u001b[0m\u001b[0;36m3\u001b[0m\u001b[0;34m]\u001b[0m \u001b[0;34m=\u001b[0m \u001b[0;34m[\u001b[0m\u001b[0;34m'a'\u001b[0m\u001b[0;34m,\u001b[0m \u001b[0;34m'new'\u001b[0m\u001b[0;34m,\u001b[0m \u001b[0;34m'list'\u001b[0m\u001b[0;34m]\u001b[0m\u001b[0;34m\u001b[0m\u001b[0;34m\u001b[0m\u001b[0m\n\u001b[0m",
      "\u001b[0;31mTypeError\u001b[0m: 'tuple' object does not support item assignment"
     ]
    }
   ],
   "source": [
    "my_tuple[3] = ['a', 'new', 'list']"
   ]
  },
  {
   "cell_type": "code",
   "execution_count": 47,
   "id": "47e01b0c-9013-4288-9911-da567013cb1b",
   "metadata": {},
   "outputs": [
    {
     "data": {
      "text/plain": [
       "(10, 9, 8, 7, 6, 5, 4, 3, 2, 1, 0)"
      ]
     },
     "execution_count": 47,
     "metadata": {},
     "output_type": "execute_result"
    }
   ],
   "source": [
    "my_tuple = (0, 1, 2, 3, 4, 5, 6, 7, 8, 9, 10)\n",
    "\n",
    "# Reverse\n",
    "my_tuple[::-1]"
   ]
  },
  {
   "cell_type": "code",
   "execution_count": 48,
   "id": "9b5eebce-c5bf-4383-8c24-b7b05ea8462d",
   "metadata": {},
   "outputs": [
    {
     "data": {
      "text/plain": [
       "(1, 3, 5, 7, 9)"
      ]
     },
     "execution_count": 48,
     "metadata": {},
     "output_type": "execute_result"
    }
   ],
   "source": [
    "my_tuple[1::2]"
   ]
  },
  {
   "cell_type": "code",
   "execution_count": 49,
   "id": "85e1a0e8-e47b-48c0-bed6-c0f2eb0fd095",
   "metadata": {},
   "outputs": [
    {
     "data": {
      "text/plain": [
       "(0, 1, 2, 3, 4, 5, 6, 7, 8, 9, 10, 11, 12, 13, 14, 15)"
      ]
     },
     "execution_count": 49,
     "metadata": {},
     "output_type": "execute_result"
    }
   ],
   "source": [
    "my_tuple + (11, 12, 13, 14, 15)\n"
   ]
  },
  {
   "cell_type": "code",
   "execution_count": 50,
   "id": "1ba6a582-e8be-4922-aa01-56a50e1356ea",
   "metadata": {},
   "outputs": [
    {
     "data": {
      "text/plain": [
       "True"
      ]
     },
     "execution_count": 50,
     "metadata": {},
     "output_type": "execute_result"
    }
   ],
   "source": [
    "5 in my_tuple"
   ]
  },
  {
   "cell_type": "code",
   "execution_count": 51,
   "id": "bcd16ae0-e11e-4a13-b024-00ee63e07a2d",
   "metadata": {},
   "outputs": [
    {
     "data": {
      "text/plain": [
       "1"
      ]
     },
     "execution_count": 51,
     "metadata": {},
     "output_type": "execute_result"
    }
   ],
   "source": [
    "my_tuple = (1, 2, 3)\n",
    "(a, b, c) = my_tuple\n",
    "\n",
    "a"
   ]
  },
  {
   "cell_type": "code",
   "execution_count": 52,
   "id": "25905602-15bb-417e-9474-7740019fdf22",
   "metadata": {},
   "outputs": [
    {
     "data": {
      "text/plain": [
       "2"
      ]
     },
     "execution_count": 52,
     "metadata": {},
     "output_type": "execute_result"
    }
   ],
   "source": [
    "b"
   ]
  },
  {
   "cell_type": "code",
   "execution_count": 53,
   "id": "95451935-90a1-45f6-af5b-c05d138434c3",
   "metadata": {},
   "outputs": [
    {
     "data": {
      "text/plain": [
       "3"
      ]
     },
     "execution_count": 53,
     "metadata": {},
     "output_type": "execute_result"
    }
   ],
   "source": [
    "c"
   ]
  },
  {
   "cell_type": "code",
   "execution_count": 54,
   "id": "6e111b46-8e9c-49c4-91b4-9c78c3aa8769",
   "metadata": {},
   "outputs": [
    {
     "name": "stdout",
     "output_type": "stream",
     "text": [
      "1 2 3\n"
     ]
    }
   ],
   "source": [
    "a, b, c = my_tuple\n",
    "\n",
    "print(a, b, c)"
   ]
  },
  {
   "cell_type": "code",
   "execution_count": null,
   "id": "6194bf56-d36c-4054-9a6d-f192248e625f",
   "metadata": {},
   "outputs": [],
   "source": []
  }
 ],
 "metadata": {
  "kernelspec": {
   "display_name": "Python 3",
   "language": "python",
   "name": "python3"
  },
  "language_info": {
   "codemirror_mode": {
    "name": "ipython",
    "version": 3
   },
   "file_extension": ".py",
   "mimetype": "text/x-python",
   "name": "python",
   "nbconvert_exporter": "python",
   "pygments_lexer": "ipython3",
   "version": "3.8.10"
  }
 },
 "nbformat": 4,
 "nbformat_minor": 5
}
