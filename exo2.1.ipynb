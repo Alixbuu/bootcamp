{
 "cells": [
  {
   "cell_type": "markdown",
   "id": "9eb548f2-f57c-4d2f-a5c8-7c0682a107ff",
   "metadata": {},
   "source": [
    "# 2.1\n"
   ]
  },
  {
   "cell_type": "code",
   "execution_count": 9,
   "id": "87208967-ad69-46b1-b891-4c26caadf87d",
   "metadata": {},
   "outputs": [],
   "source": [
    "# The sequence we want to analyze\n",
    "seq = 'GACAGACUCCAUGCACGUGGGUAUCUGUC'"
   ]
  },
  {
   "cell_type": "code",
   "execution_count": 10,
   "id": "6ae6b70d-97a4-419a-9d26-930240dcce77",
   "metadata": {},
   "outputs": [],
   "source": [
    "def complement_base(base,material='DNA'):\n",
    "    \"\"\"Returns the Watson-Crick complement of a base.\"\"\"\n",
    "    if base in 'Aa':\n",
    "        if material == 'DNA':\n",
    "            return 'T'\n",
    "        elif material == 'RNA':\n",
    "            return 'U'\n",
    "    elif base in 'TtUu':\n",
    "        return 'A'\n",
    "    elif base in 'Gg':\n",
    "        return 'C'\n",
    "    else:\n",
    "        return 'G'"
   ]
  },
  {
   "cell_type": "code",
   "execution_count": 13,
   "id": "e13a38ac-901f-44c0-abe1-f18a12a63771",
   "metadata": {},
   "outputs": [],
   "source": [
    "def reverse_complement(base,material ='DNA'):\n",
    "    reversed_seq= seq[-1::-1]\n",
    "    rev_seq= ''\n",
    "    for base in reversed_seq:\n",
    "        rev_seq+=complement_base(base, material=material)\n",
    "\n",
    "    return rev_seq\n",
    "    "
   ]
  },
  {
   "cell_type": "code",
   "execution_count": 14,
   "id": "68df07e7-3442-49be-a317-62b8846b1432",
   "metadata": {},
   "outputs": [
    {
     "data": {
      "text/plain": [
       "'GACAGATACCCACGTGCATGGAGTCTGTC'"
      ]
     },
     "execution_count": 14,
     "metadata": {},
     "output_type": "execute_result"
    }
   ],
   "source": [
    "reverse_complement(seq,material='DNA')"
   ]
  },
  {
   "cell_type": "code",
   "execution_count": 17,
   "id": "fc39455f-7df4-4eb8-9a83-03efc35e43ee",
   "metadata": {},
   "outputs": [],
   "source": [
    "def display_complements(seq):\n",
    "    \"\"\"Print sequence above its reverse complement.\"\"\"\n",
    "    #compute the reverse_complement\n",
    "    rev_comp=reverse_complement(seq)\n",
    "    #print template\n",
    "    reversed_seq= seq[-1::-1]\n",
    "    print(reversed_seq)\n",
    "    #print base pairs\n",
    "    for base in seq:\n",
    "        print('|', end='')\n",
    "    #print reverse complement\n",
    "    print()\n",
    "    for base in rev_comp:\n",
    "        print(base,end ='')\n",
    "   \n",
    "    # Print final newline character\n",
    "    print()\n",
    "    "
   ]
  },
  {
   "cell_type": "code",
   "execution_count": 18,
   "id": "0ae80718-31aa-4270-9257-56d7d3af2b41",
   "metadata": {},
   "outputs": [
    {
     "name": "stdout",
     "output_type": "stream",
     "text": [
      "CUGUCUAUGGGUGCACGUACCUCAGACAG\n",
      "|||||||||||||||||||||||||||||\n",
      "GACAGATACCCACGTGCATGGAGTCTGTC\n"
     ]
    }
   ],
   "source": [
    "display_complements(seq)"
   ]
  },
  {
   "cell_type": "code",
   "execution_count": 36,
   "id": "9ab46faa-fa5c-4ced-a44c-35aed1d1eac4",
   "metadata": {},
   "outputs": [],
   "source": [
    "def reverse_complement_without(seq,material='RNA'):\n",
    "    #change easier consise response\n",
    "    seq_=seq.lower()\n",
    "    print(seq_)\n",
    "    seq_1= seq_.replace('u','A')\n",
    "    print(seq_1)\n",
    "    seq_2=seq_1.replace('a','T')\n",
    "    print(seq_2)\n",
    "    seq_3=seq_2.replace('g','C')\n",
    "    seq_4=seq_3.replace('c','G')\n",
    "    rev_seq=seq_4[-1::-1]\n",
    "    return rev_seq"
   ]
  },
  {
   "cell_type": "code",
   "execution_count": 37,
   "id": "c61ee235-ed87-4c64-a76a-400de12c1a31",
   "metadata": {},
   "outputs": [
    {
     "name": "stdout",
     "output_type": "stream",
     "text": [
      "gacagacuccaugcacguggguaucuguc\n",
      "gacagacAccaAgcacgAgggAaAcAgAc\n",
      "gTcTgTcAccTAgcTcgAgggATAcAgAc\n"
     ]
    },
    {
     "data": {
      "text/plain": [
       "'GACAGATACCCACGTGCATGGAGTCTGTC'"
      ]
     },
     "execution_count": 37,
     "metadata": {},
     "output_type": "execute_result"
    }
   ],
   "source": [
    "reverse_complement_without(seq,material='DNA')"
   ]
  },
  {
   "cell_type": "markdown",
   "id": "822320e0-7a85-4f9e-91b6-bed5f6708e75",
   "metadata": {},
   "source": [
    "# longest common substring"
   ]
  },
  {
   "cell_type": "code",
   "execution_count": 220,
   "id": "58d714bf-c857-4f86-b6ce-2547b201dcc6",
   "metadata": {},
   "outputs": [],
   "source": [
    "def longest_common_substring(seq1,seq2):\n",
    "    \"\"\" find the longest common substring between sequences \"\"\"\n",
    "    shorter=seq1\n",
    "    longer=seq2\n",
    "    #initialize my longest substring\n",
    "    long_substring=''\n",
    "    #switch if seq1 is longer\n",
    "    if len(shorter)> len(longer):\n",
    "        shorter,longer= longer,shorter\n",
    "    # i will go from 0 to len(shorter)-1\n",
    "    for i, _ in enumerate(shorter):\n",
    "        #for k: -i:so not out of range and +1 bc the end is not inclusive\n",
    "        for k in range(0,len(shorter)-i+1):\n",
    "            if shorter[i:i+k] in longer:\n",
    "                #temporary variable to store substring\n",
    "                temp= shorter[i:i+k]\n",
    "                #compare my temporary with my longest substring stored if longer change longest substring by value of temp\n",
    "                if len(long_substring) < len(temp):\n",
    "                    long_substring=temp\n",
    "                    \n",
    "            \n",
    "        \n",
    "        \n",
    "    return long_substring"
   ]
  },
  {
   "cell_type": "code",
   "execution_count": 221,
   "id": "51c758f5-af2c-4c4f-82e2-b9f0041afee4",
   "metadata": {},
   "outputs": [
    {
     "data": {
      "text/plain": [
       "'atatc'"
      ]
     },
     "execution_count": 221,
     "metadata": {},
     "output_type": "execute_result"
    }
   ],
   "source": [
    "seq1='atatc'\n",
    "seq2='atatca'\n",
    "#l=len(seq1)\n",
    "#print(l)\n",
    "longest_common_substring(seq1,seq2)"
   ]
  },
  {
   "cell_type": "code",
   "execution_count": 222,
   "id": "e0fb520b-98e3-42d3-8db1-22143f729d29",
   "metadata": {},
   "outputs": [
    {
     "data": {
      "text/plain": [
       "'ATGC'"
      ]
     },
     "execution_count": 222,
     "metadata": {},
     "output_type": "execute_result"
    }
   ],
   "source": [
    "longest_common_substring('ATGC', 'ATGCA')"
   ]
  },
  {
   "cell_type": "code",
   "execution_count": 223,
   "id": "80c563f9-6fb0-4f57-a0b4-696fde0c7043",
   "metadata": {},
   "outputs": [
    {
     "data": {
      "text/plain": [
       "'ATGCC'"
      ]
     },
     "execution_count": 223,
     "metadata": {},
     "output_type": "execute_result"
    }
   ],
   "source": [
    "longest_common_substring('GATGCCATGCA', 'ATGCC')"
   ]
  },
  {
   "cell_type": "code",
   "execution_count": 224,
   "id": "ef9ff8a2-898b-4607-89a5-c27131dadf47",
   "metadata": {},
   "outputs": [
    {
     "data": {
      "text/plain": [
       "'ACGT'"
      ]
     },
     "execution_count": 224,
     "metadata": {},
     "output_type": "execute_result"
    }
   ],
   "source": [
    "longest_common_substring('ACGTGGAAAGCCA', 'GTACACACGTTTTGAGAGACAC')"
   ]
  },
  {
   "cell_type": "markdown",
   "id": "8c70e4bf-7fad-4c41-bcfe-cccccd90361b",
   "metadata": {},
   "source": [
    "# 2.3"
   ]
  },
  {
   "cell_type": "code",
   "execution_count": 241,
   "id": "db3bf126-6cd4-48c8-bab7-a6748faeab24",
   "metadata": {},
   "outputs": [],
   "source": [
    "#(): base pair , .=unpair\n",
    "\n",
    "\n",
    "pairing='(((....)))'\n",
    "def equal_parenthese(parenthese):\n",
    "    nb_left=0\n",
    "    nb_right=0\n",
    "    for i,n in enumerate(pairing):\n",
    "        if n == \"(\":\n",
    "            nb_left+=1\n",
    "        elif n==\")\":\n",
    "            nb_right+=1\n",
    "    \n",
    "    if nb_left == nb_right:\n",
    "        return True\n",
    "    else:\n",
    "        return False"
   ]
  },
  {
   "cell_type": "code",
   "execution_count": null,
   "id": "b32f715b-bf9d-49ef-91c7-6106668ee12b",
   "metadata": {},
   "outputs": [],
   "source": []
  },
  {
   "cell_type": "code",
   "execution_count": 242,
   "id": "6503df5d-d0d1-4e7f-95dc-7eaf7acfdd05",
   "metadata": {},
   "outputs": [
    {
     "data": {
      "text/plain": [
       "True"
      ]
     },
     "execution_count": 242,
     "metadata": {},
     "output_type": "execute_result"
    }
   ],
   "source": [
    "equal_parenthese(pairing)"
   ]
  },
  {
   "cell_type": "code",
   "execution_count": 257,
   "id": "3054f798-9290-49fd-8cee-509072908436",
   "metadata": {},
   "outputs": [],
   "source": [
    "def right_pair(parent):\n",
    "    length_seq = len(parent)\n",
    "    first_temp=range(0,length_seq//2)\n",
    "    beginning=list(first_temp)\n",
    "    right_pairing=True\n",
    "    \n",
    "    \n",
    "    #print(beginning)\n",
    "    end_temp=range(length_seq-1,length_seq//2-1,-1)\n",
    "    end=list(end_temp)\n",
    "    #print(end)\n",
    "    for i,k in zip(beginning,end):\n",
    "        #print(parent[i])\n",
    "        if parent[i] == \"(\" and parent[k]== \".\":\n",
    "            right_pairing=False\n",
    "        if parent[i] == \".\" and parent[k]== \")\":\n",
    "            right_pairing=False\n",
    "    \n",
    "    return right_pairing"
   ]
  },
  {
   "cell_type": "code",
   "execution_count": 252,
   "id": "d086f2cb-d1ee-47f4-adb2-ea9860cf3443",
   "metadata": {},
   "outputs": [],
   "source": [
    "def dotparent_to_bp(parent):\n",
    "    dot_paren=[]\n",
    "    length_seq = len(parent)\n",
    "    first_temp=range(0,length_seq//2)\n",
    "    beginning=list(first_temp)\n",
    "    right_pairing=True\n",
    "    \n",
    "    \n",
    "    #print(beginning)\n",
    "    end_temp=range(length_seq-1,length_seq//2-1,-1)\n",
    "    end=list(end_temp)\n",
    "    #print(end)\n",
    "    for i,k in zip(beginning,end):\n",
    "        #print(i,k)\n",
    "        #print(parent[i])\n",
    "        if parent[i] == \"(\" and parent[k]== \")\":\n",
    "            \n",
    "            dot_paren.append((i,k))\n",
    "        \n",
    "            \n",
    "            \n",
    "           \n",
    "    return tuple(dot_paren)"
   ]
  },
  {
   "cell_type": "code",
   "execution_count": 253,
   "id": "0912c887-28e9-4032-85a5-8d5a49ee2ed2",
   "metadata": {},
   "outputs": [
    {
     "data": {
      "text/plain": [
       "((0, 9), (1, 8), (2, 7))"
      ]
     },
     "execution_count": 253,
     "metadata": {},
     "output_type": "execute_result"
    }
   ],
   "source": [
    "base_pair=dotparent_to_bp(pairing)\n",
    "base_pair"
   ]
  },
  {
   "cell_type": "code",
   "execution_count": 251,
   "id": "2dfbf66d-c408-46bc-b4ff-88f8be57102e",
   "metadata": {},
   "outputs": [],
   "source": [
    "def min_hairpinlength(pairing,base_pairs):\n",
    "    #length_pairing=len(pairing)\n",
    "    #length_base_pair=len(base_pairs)\n",
    "    valid=True\n",
    "    last_objet= len(base_pairs)-1\n",
    "    hairpin_length=base_pairs[last_objet][1]-base_pairs[last_objet][0]-1\n",
    "    #print(hairpin_length)\n",
    "    if hairpin_length< 4:\n",
    "        valid=False\n",
    "        print(\"is not a valid hairpinloop\")\n",
    "    else:\n",
    "        print(\"it is a valid hairpinlopp\")\n",
    "    return valid\n",
    "    "
   ]
  },
  {
   "cell_type": "code",
   "execution_count": 230,
   "id": "f1fd1a3e-6bbb-4592-842c-127d7c8429e6",
   "metadata": {},
   "outputs": [
    {
     "name": "stdout",
     "output_type": "stream",
     "text": [
      "4\n",
      "it is a valid hairpinlopp\n"
     ]
    },
    {
     "data": {
      "text/plain": [
       "True"
      ]
     },
     "execution_count": 230,
     "metadata": {},
     "output_type": "execute_result"
    }
   ],
   "source": [
    "min_hairpinlength(pairing,base_pair)"
   ]
  },
  {
   "cell_type": "code",
   "execution_count": 255,
   "id": "8f6ca7fb-ff7b-4810-9845-97b681abcc5b",
   "metadata": {},
   "outputs": [],
   "source": [
    "def rna_ss_validator(seq, sec_struc, wobble=True):\n",
    "    seq_length=len(seq)\n",
    "    first_temp=range(0,seq_length//2)\n",
    "    beginning=list(first_temp)\n",
    "    validator=True\n",
    "    \n",
    "    #print(beginning)\n",
    "    #end_temp=range(seq_length-1,seq_length//2-1,-1)\n",
    "    seq_complementary =True\n",
    "    #end=list(end_temp)\n",
    "    equal_paren = equal_parenthese(sec_struc)\n",
    "    base_pair= dotparent_to_bp(sec_struc)\n",
    "    first_base=0\n",
    "    second_base=1\n",
    "    for i,_ in enumerate(base_pair) :\n",
    "        if seq[base_pair[i][first_base]] in \"A\":\n",
    "            if seq[base_pair[i][second_base]] != \"U\":\n",
    "                #print(\"a\")\n",
    "                seq_complementary=False\n",
    "                break\n",
    "        if seq[base_pair[i][first_base]] in \"T\":\n",
    "            if wobble ==False and seq[base_pair[i][second_base]] != \"A\":\n",
    "                #print(\"b\")\n",
    "                seq_complementary=False\n",
    "                break\n",
    "            elif wobble == True and seq[base_pair[i][second_base]] != \"A\" and seq[base_pair[i][second_base]] != \"G\":\n",
    "                #print(\"c\")\n",
    "                seq_complementary=False\n",
    "                break\n",
    "        if seq[base_pair[i][first_base]] in \"G\":\n",
    "            if wobble ==False and seq[base_pair[i][second_base]] != \"C\":\n",
    "                #print(\"d\")\n",
    "                seq_complementary=False\n",
    "                break\n",
    "            elif wobble == True and seq[base_pair[i][second_base]] != \"C\" and seq[base_pair[i][second_base]] != \"U\":\n",
    "                #print(\"e\")\n",
    "                seq_complementary=False\n",
    "                break\n",
    "        if seq[base_pair[i][first_base]] in \"C\":\n",
    "            if seq[base_pair[i][second_base]] != \"G\":\n",
    "                #print(\"f\")\n",
    "                seq_complementary=False\n",
    "                break\n",
    "\n",
    "    equal_paren = equal_parenthese(sec_struc)\n",
    "    base_pair= dotparent_to_bp(sec_struc)\n",
    "    valid_hairpin = min_hairpinlength(sec_struc,base_pair)\n",
    "    right_pair_=right_pair(sec_struc)\n",
    "    print(seq_complementary,equal_paren,valid_hairpin,right_pair_)\n",
    "    \n",
    "    if seq_complementary==True and equal_paren ==True and valid_hairpin==True and right_pair_== True :\n",
    "        validator=True\n",
    "    else:\n",
    "        validator=False\n",
    "\n",
    "    return validator\n",
    "\n",
    "\n",
    "\n",
    "            \n",
    "            \n",
    "                \n",
    "                \n",
    "            \n",
    "    "
   ]
  },
  {
   "cell_type": "code",
   "execution_count": 258,
   "id": "aa0513a6-a2ac-44ef-a92a-54e6ab40797c",
   "metadata": {},
   "outputs": [
    {
     "name": "stdout",
     "output_type": "stream",
     "text": [
      "it is a valid hairpinlopp\n",
      "True True True True\n"
     ]
    },
    {
     "data": {
      "text/plain": [
       "True"
      ]
     },
     "execution_count": 258,
     "metadata": {},
     "output_type": "execute_result"
    }
   ],
   "source": [
    "rna_ss_validator('GCAUCUAUGC', '(((....)))')"
   ]
  },
  {
   "cell_type": "code",
   "execution_count": 259,
   "id": "fd59a552-326b-4e46-85b6-6a5a89da1cb0",
   "metadata": {},
   "outputs": [
    {
     "name": "stdout",
     "output_type": "stream",
     "text": [
      "it is a valid hairpinlopp\n",
      "True True True True\n"
     ]
    },
    {
     "data": {
      "text/plain": [
       "True"
      ]
     },
     "execution_count": 259,
     "metadata": {},
     "output_type": "execute_result"
    }
   ],
   "source": [
    "rna_ss_validator('GCAUCUAUGU', '(((....)))')"
   ]
  },
  {
   "cell_type": "code",
   "execution_count": 237,
   "id": "f654e058-41a9-4ef0-a8c8-6840bf3d44f9",
   "metadata": {},
   "outputs": [
    {
     "name": "stdout",
     "output_type": "stream",
     "text": [
      "3 3\n",
      "[0, 1, 2, 3, 4]\n",
      "[9, 8, 7, 6, 5]\n",
      "3 3\n",
      "[0, 1, 2, 3, 4]\n",
      "[9, 8, 7, 6, 5]\n",
      "4\n",
      "it is a valid hairpinlopp\n",
      "[0, 1, 2, 3, 4]\n",
      "[9, 8, 7, 6, 5]\n",
      "True True True True\n"
     ]
    },
    {
     "data": {
      "text/plain": [
       "True"
      ]
     },
     "execution_count": 237,
     "metadata": {},
     "output_type": "execute_result"
    }
   ],
   "source": [
    "rna_ss_validator('GCAUCUAUGU', '(.(....).)')"
   ]
  },
  {
   "cell_type": "code",
   "execution_count": 202,
   "id": "a53759ed-9b57-44e5-aed2-3ac019465a86",
   "metadata": {},
   "outputs": [
    {
     "name": "stdout",
     "output_type": "stream",
     "text": [
      "3 3\n",
      "[0, 1, 2, 3, 4]\n",
      "[9, 8, 7, 6, 5]\n",
      "0 9\n",
      "1 8\n",
      "2 7\n",
      "3 6\n",
      "4 5\n",
      "a\n",
      "3 3\n",
      "[0, 1, 2, 3, 4]\n",
      "[9, 8, 7, 6, 5]\n",
      "0 9\n",
      "1 8\n",
      "2 7\n",
      "3 6\n",
      "4 5\n",
      "4\n",
      "it is a valid hairpinlopp\n",
      "False True True\n"
     ]
    },
    {
     "data": {
      "text/plain": [
       "False"
      ]
     },
     "execution_count": 202,
     "metadata": {},
     "output_type": "execute_result"
    }
   ],
   "source": [
    "rna_ss_validator('GCAUCUACGC', '(((....)))')"
   ]
  },
  {
   "cell_type": "code",
   "execution_count": 238,
   "id": "861aec5b-d146-4224-b891-64ab5dfa3409",
   "metadata": {},
   "outputs": [
    {
     "name": "stdout",
     "output_type": "stream",
     "text": [
      "3 3\n",
      "[0, 1, 2, 3, 4]\n",
      "[9, 8, 7, 6, 5]\n",
      "d\n",
      "3 3\n",
      "[0, 1, 2, 3, 4]\n",
      "[9, 8, 7, 6, 5]\n",
      "4\n",
      "it is a valid hairpinlopp\n",
      "[0, 1, 2, 3, 4]\n",
      "[9, 8, 7, 6, 5]\n",
      "False True True True\n"
     ]
    },
    {
     "data": {
      "text/plain": [
       "False"
      ]
     },
     "execution_count": 238,
     "metadata": {},
     "output_type": "execute_result"
    }
   ],
   "source": [
    "rna_ss_validator('GCAUCUAUGU', '(((....)))', wobble=False)"
   ]
  },
  {
   "cell_type": "code",
   "execution_count": 239,
   "id": "9d68a89e-839c-45f5-82a7-74aa3431e8fe",
   "metadata": {},
   "outputs": [
    {
     "name": "stdout",
     "output_type": "stream",
     "text": [
      "3 3\n",
      "[0, 1, 2, 3, 4]\n",
      "[9, 8, 7, 6, 5]\n",
      "3 3\n",
      "[0, 1, 2, 3, 4]\n",
      "[9, 8, 7, 6, 5]\n",
      "4\n",
      "it is a valid hairpinlopp\n",
      "[0, 1, 2, 3, 4]\n",
      "[9, 8, 7, 6, 5]\n",
      "True True True False\n"
     ]
    },
    {
     "data": {
      "text/plain": [
       "False"
      ]
     },
     "execution_count": 239,
     "metadata": {},
     "output_type": "execute_result"
    }
   ],
   "source": [
    "rna_ss_validator('GCAUCUAUGU', '(.(....)).')"
   ]
  },
  {
   "cell_type": "code",
   "execution_count": 240,
   "id": "3b5d5d85-c697-465c-b9a2-1543472f2bc6",
   "metadata": {},
   "outputs": [
    {
     "name": "stdout",
     "output_type": "stream",
     "text": [
      "3 3\n",
      "[0, 1, 2, 3, 4]\n",
      "[9, 8, 7, 6, 5]\n",
      "3 3\n",
      "[0, 1, 2, 3, 4]\n",
      "[9, 8, 7, 6, 5]\n",
      "2\n",
      "is not a valid hairpinloop\n",
      "[0, 1, 2, 3, 4]\n",
      "[9, 8, 7, 6, 5]\n",
      "True True False False\n"
     ]
    },
    {
     "data": {
      "text/plain": [
       "False"
      ]
     },
     "execution_count": 240,
     "metadata": {},
     "output_type": "execute_result"
    }
   ],
   "source": [
    "rna_ss_validator('GCCCUUGGCA', '(.((..))).')"
   ]
  },
  {
   "cell_type": "code",
   "execution_count": null,
   "id": "6cde2a17-666a-4f64-b12b-dc5901a5f4c4",
   "metadata": {},
   "outputs": [],
   "source": []
  }
 ],
 "metadata": {
  "kernelspec": {
   "display_name": "Python 3",
   "language": "python",
   "name": "python3"
  },
  "language_info": {
   "codemirror_mode": {
    "name": "ipython",
    "version": 3
   },
   "file_extension": ".py",
   "mimetype": "text/x-python",
   "name": "python",
   "nbconvert_exporter": "python",
   "pygments_lexer": "ipython3",
   "version": "3.8.10"
  }
 },
 "nbformat": 4,
 "nbformat_minor": 5
}
