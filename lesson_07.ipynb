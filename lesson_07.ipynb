{
 "cells": [
  {
   "cell_type": "code",
   "execution_count": 1,
   "id": "317dde37-b464-4821-a6fa-1153077e5aef",
   "metadata": {},
   "outputs": [],
   "source": [
    "def ratio(x, y):\n",
    "    \"\"\"The ratio of `x` to `y`.\"\"\"\n",
    "    return x / y"
   ]
  },
  {
   "cell_type": "code",
   "execution_count": 2,
   "id": "e8c9d030-0901-4a00-926e-4a3c8fd5f7d7",
   "metadata": {},
   "outputs": [
    {
     "name": "stdout",
     "output_type": "stream",
     "text": [
      "Help on function ratio in module __main__:\n",
      "\n",
      "ratio(x, y)\n",
      "    The ratio of `x` to `y`.\n",
      "\n"
     ]
    }
   ],
   "source": [
    "help(ratio)"
   ]
  },
  {
   "cell_type": "code",
   "execution_count": 3,
   "id": "f38a3f32-76f2-44ba-84ad-50fa43acf78c",
   "metadata": {},
   "outputs": [
    {
     "data": {
      "text/plain": [
       "\u001b[0;31mSignature:\u001b[0m \u001b[0mratio\u001b[0m\u001b[0;34m(\u001b[0m\u001b[0mx\u001b[0m\u001b[0;34m,\u001b[0m \u001b[0my\u001b[0m\u001b[0;34m)\u001b[0m\u001b[0;34m\u001b[0m\u001b[0;34m\u001b[0m\u001b[0m\n",
       "\u001b[0;31mDocstring:\u001b[0m The ratio of `x` to `y`.\n",
       "\u001b[0;31mFile:\u001b[0m      ~/git/bootcamp/<ipython-input-1-ad32d3e3b4db>\n",
       "\u001b[0;31mType:\u001b[0m      function\n"
      ]
     },
     "metadata": {},
     "output_type": "display_data"
    }
   ],
   "source": [
    "ratio?\n"
   ]
  },
  {
   "cell_type": "code",
   "execution_count": 4,
   "id": "785d584f-1533-4c18-b51a-c8d2e76acda2",
   "metadata": {},
   "outputs": [
    {
     "data": {
      "text/plain": [
       "1.25"
      ]
     },
     "execution_count": 4,
     "metadata": {},
     "output_type": "execute_result"
    }
   ],
   "source": [
    "ratio(5,4)"
   ]
  },
  {
   "cell_type": "code",
   "execution_count": 5,
   "id": "0226845b-8acf-43fb-8f16-58686b139d10",
   "metadata": {},
   "outputs": [],
   "source": [
    "def answer_to_the_ultimate_question_of_life_the_universe_and_everything():\n",
    "    \"\"\"Simpler program than Deep Thought's, I bet.\"\"\"\n",
    "    return 42\n"
   ]
  },
  {
   "cell_type": "code",
   "execution_count": 7,
   "id": "dfbb27bb-a02a-43b7-9521-d305b0e9595f",
   "metadata": {},
   "outputs": [
    {
     "data": {
      "text/plain": [
       "42"
      ]
     },
     "execution_count": 7,
     "metadata": {},
     "output_type": "execute_result"
    }
   ],
   "source": [
    "answer_to_the_ultimate_question_of_life_the_universe_and_everything()"
   ]
  },
  {
   "cell_type": "code",
   "execution_count": 8,
   "id": "48767eb8-192a-4e5a-9ec6-06d5ecd3c5b2",
   "metadata": {},
   "outputs": [],
   "source": [
    "def think_too_much():\n",
    "    \"\"\"Express Caesar's skepticism about Cassius\"\"\"\n",
    "    print(\"\"\"Yond Cassius has a lean and hungry look,\n",
    "He thinks too much; such men are dangerous.\"\"\")"
   ]
  },
  {
   "cell_type": "code",
   "execution_count": 9,
   "id": "829bcdf4-55d4-4ae1-b038-500941f790db",
   "metadata": {},
   "outputs": [
    {
     "name": "stdout",
     "output_type": "stream",
     "text": [
      "Yond Cassius has a lean and hungry look,\n",
      "He thinks too much; such men are dangerous.\n",
      "\n",
      "None\n"
     ]
    }
   ],
   "source": [
    "return_val = think_too_much()\n",
    "\n",
    "# Print a blank line\n",
    "print()\n",
    "\n",
    "# Print the return value\n",
    "print(return_val)"
   ]
  },
  {
   "cell_type": "code",
   "execution_count": 18,
   "id": "4946e145-af28-424e-8275-64235833fbf5",
   "metadata": {},
   "outputs": [],
   "source": [
    "def complement_base(base,material='DNA'):\n",
    "    \"\"\"Returns the Watson-Crick complement of a base.\"\"\"\n",
    "    if base in 'Aa':\n",
    "        if material == 'DNA':\n",
    "            return 'T'\n",
    "        elif material == 'RNA':\n",
    "            return 'U'\n",
    "    elif base in 'TtUu':\n",
    "        return 'A'\n",
    "    elif base in 'Gg':\n",
    "        return 'C'\n",
    "    else:\n",
    "        return 'G'"
   ]
  },
  {
   "cell_type": "code",
   "execution_count": 19,
   "id": "446cee97-235f-4e7e-921f-d1ee7e9b5617",
   "metadata": {},
   "outputs": [],
   "source": [
    "def reverse_complement(seq, material='DNA'):\n",
    "    rev_seq=''\n",
    "    for base in reversed(seq):\n",
    "        rev_seq+=complement_base(base, material=material)\n",
    "\n",
    "    return rev_seq"
   ]
  },
  {
   "cell_type": "code",
   "execution_count": 21,
   "id": "012110ba-1682-43f9-8fd7-00313039ce4b",
   "metadata": {},
   "outputs": [
    {
     "data": {
      "text/plain": [
       "'UGCAACUGC'"
      ]
     },
     "execution_count": 21,
     "metadata": {},
     "output_type": "execute_result"
    }
   ],
   "source": [
    "reverse_complement('GCAGTTGCA',material='RNA')"
   ]
  },
  {
   "cell_type": "code",
   "execution_count": 16,
   "id": "9e45082e-82a4-40fd-a165-c50c0b4c5610",
   "metadata": {},
   "outputs": [],
   "source": [
    "def display_complements(seq):\n",
    "    \"\"\"Print sequence above its reverse complement.\"\"\"\n",
    "    #compute the reverse_complement\n",
    "    rev_comp=reverse_complement(seq)\n",
    "    #print template\n",
    "    print(seq)\n",
    "    #print base pairs\n",
    "    for base in seq:\n",
    "        print('|', end='')\n",
    "    #print reverse complement\n",
    "    print()\n",
    "    for base in reversed(rev_comp):\n",
    "        print(base,end ='')\n",
    "   \n",
    "    # Print final newline character\n",
    "    print()\n",
    "    "
   ]
  },
  {
   "cell_type": "code",
   "execution_count": 17,
   "id": "985b57e8-ca50-4759-b6d8-eb1ee24d8475",
   "metadata": {},
   "outputs": [
    {
     "name": "stdout",
     "output_type": "stream",
     "text": [
      "GCAGTTGCA\n",
      "|||||||||\n",
      "CGTCAACGT\n"
     ]
    }
   ],
   "source": [
    "seq = 'GCAGTTGCA'\n",
    "display_complements(seq)"
   ]
  },
  {
   "cell_type": "code",
   "execution_count": 22,
   "id": "ebb02bb0-2e6b-4046-8b75-b22b30db785b",
   "metadata": {},
   "outputs": [],
   "source": [
    "def is_almost_right(a, b, c):\n",
    "    \"\"\"\n",
    "    Checks to see if a triangle with side lengths\n",
    "    `a`, `b`, and `c` is right.\n",
    "    \"\"\"\n",
    "\n",
    "    # Use sorted(), which gives a sorted list\n",
    "    a, b, c = sorted([a, b, c])\n",
    "\n",
    "    # Check to see if it is almost a right triangle\n",
    "    if abs(a**2 + b**2 - c**2) < 1e-12:\n",
    "        return True\n",
    "    else:\n",
    "        return False\n"
   ]
  },
  {
   "cell_type": "code",
   "execution_count": 23,
   "id": "2f2f2875-3a85-489a-92d1-83b6d5fed1e8",
   "metadata": {},
   "outputs": [
    {
     "data": {
      "text/plain": [
       "False"
      ]
     },
     "execution_count": 23,
     "metadata": {},
     "output_type": "execute_result"
    }
   ],
   "source": [
    "is_almost_right(1, 1, 1.4)"
   ]
  },
  {
   "cell_type": "code",
   "execution_count": 24,
   "id": "4ccf555e-330f-4a2e-b38f-eb8e7686149a",
   "metadata": {},
   "outputs": [],
   "source": [
    "side_lengths = (13, 5, 12)"
   ]
  },
  {
   "cell_type": "code",
   "execution_count": 25,
   "id": "9f181f9d-2f07-4034-a2c3-09d3c6dc0a11",
   "metadata": {},
   "outputs": [
    {
     "data": {
      "text/plain": [
       "True"
      ]
     },
     "execution_count": 25,
     "metadata": {},
     "output_type": "execute_result"
    }
   ],
   "source": [
    "is_almost_right(*side_lengths)"
   ]
  },
  {
   "cell_type": "code",
   "execution_count": 26,
   "id": "3ffca10e-37be-4eac-aaf5-3a6b768f5b66",
   "metadata": {},
   "outputs": [
    {
     "data": {
      "text/plain": [
       "True"
      ]
     },
     "execution_count": 26,
     "metadata": {},
     "output_type": "execute_result"
    }
   ],
   "source": [
    "is_almost_right(*side_lengths)"
   ]
  },
  {
   "cell_type": "code",
   "execution_count": null,
   "id": "12ac3701-c9bf-4e4c-8507-efd83b078527",
   "metadata": {},
   "outputs": [],
   "source": []
  }
 ],
 "metadata": {
  "kernelspec": {
   "display_name": "Python 3",
   "language": "python",
   "name": "python3"
  },
  "language_info": {
   "codemirror_mode": {
    "name": "ipython",
    "version": 3
   },
   "file_extension": ".py",
   "mimetype": "text/x-python",
   "name": "python",
   "nbconvert_exporter": "python",
   "pygments_lexer": "ipython3",
   "version": "3.8.10"
  }
 },
 "nbformat": 4,
 "nbformat_minor": 5
}
