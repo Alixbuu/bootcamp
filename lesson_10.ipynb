{
 "cells": [
  {
   "cell_type": "markdown",
   "id": "3355364b-afa7-4e2f-bd0d-5da5f03c395a",
   "metadata": {},
   "source": [
    "# package and modules"
   ]
  },
  {
   "cell_type": "code",
   "execution_count": 1,
   "id": "7a956b0c-f612-413e-a161-e394efb0fe97",
   "metadata": {},
   "outputs": [],
   "source": [
    "def mean(values):\n",
    "    \"\"\"Compute the mean of a sequence of numbers.\"\"\"\n",
    "    return sum(values) / len(values)"
   ]
  },
  {
   "cell_type": "code",
   "execution_count": 4,
   "id": "096b52b7-363e-4cd2-8a1a-1cda04d6a2df",
   "metadata": {},
   "outputs": [],
   "source": [
    "import numpy"
   ]
  },
  {
   "cell_type": "code",
   "execution_count": 5,
   "id": "5f676e9f-e4aa-4234-9e9d-0712a52f2bba",
   "metadata": {},
   "outputs": [
    {
     "ename": "SyntaxError",
     "evalue": "invalid syntax (<ipython-input-5-bffa30fcaef5>, line 1)",
     "output_type": "error",
     "traceback": [
      "\u001b[0;36m  File \u001b[0;32m\"<ipython-input-5-bffa30fcaef5>\"\u001b[0;36m, line \u001b[0;32m1\u001b[0m\n\u001b[0;31m    numpy.\u001b[0m\n\u001b[0m          ^\u001b[0m\n\u001b[0;31mSyntaxError\u001b[0m\u001b[0;31m:\u001b[0m invalid syntax\n"
     ]
    }
   ],
   "source": [
    "numpy."
   ]
  },
  {
   "cell_type": "code",
   "execution_count": 6,
   "id": "fc9a6f92-e59e-4ea5-aa2d-1288d5ba6ac6",
   "metadata": {},
   "outputs": [
    {
     "name": "stdout",
     "output_type": "stream",
     "text": [
      "3.0\n",
      "3.275\n"
     ]
    }
   ],
   "source": [
    "print(numpy.mean([1, 2, 3, 4, 5]))\n",
    "print(numpy.mean((4.5, 1.2, -1.6, 9.0)))"
   ]
  },
  {
   "cell_type": "code",
   "execution_count": 7,
   "id": "bd156f69-e431-4902-831c-fed8e365ad3f",
   "metadata": {},
   "outputs": [
    {
     "name": "stdout",
     "output_type": "stream",
     "text": [
      "3.0\n",
      "2.85\n"
     ]
    }
   ],
   "source": [
    "print(numpy.median([1, 2, 3, 4, 5]))\n",
    "print(numpy.median((4.5, 1.2, -1.6, 9.0)))"
   ]
  },
  {
   "cell_type": "code",
   "execution_count": 8,
   "id": "94af72e0-9336-43d1-9c46-dc8f35c84ca5",
   "metadata": {},
   "outputs": [
    {
     "data": {
      "text/plain": [
       "2.5"
      ]
     },
     "execution_count": 8,
     "metadata": {},
     "output_type": "execute_result"
    }
   ],
   "source": [
    "numpy.median([1,2,3,4])"
   ]
  },
  {
   "cell_type": "code",
   "execution_count": 9,
   "id": "1011a3c9-15d2-4655-9047-b50d9d907cf2",
   "metadata": {},
   "outputs": [
    {
     "data": {
      "text/plain": [
       "\u001b[0;31mSignature:\u001b[0m \u001b[0mnumpy\u001b[0m\u001b[0;34m.\u001b[0m\u001b[0mmedian\u001b[0m\u001b[0;34m(\u001b[0m\u001b[0ma\u001b[0m\u001b[0;34m,\u001b[0m \u001b[0maxis\u001b[0m\u001b[0;34m=\u001b[0m\u001b[0;32mNone\u001b[0m\u001b[0;34m,\u001b[0m \u001b[0mout\u001b[0m\u001b[0;34m=\u001b[0m\u001b[0;32mNone\u001b[0m\u001b[0;34m,\u001b[0m \u001b[0moverwrite_input\u001b[0m\u001b[0;34m=\u001b[0m\u001b[0;32mFalse\u001b[0m\u001b[0;34m,\u001b[0m \u001b[0mkeepdims\u001b[0m\u001b[0;34m=\u001b[0m\u001b[0;32mFalse\u001b[0m\u001b[0;34m)\u001b[0m\u001b[0;34m\u001b[0m\u001b[0;34m\u001b[0m\u001b[0m\n",
       "\u001b[0;31mDocstring:\u001b[0m\n",
       "Compute the median along the specified axis.\n",
       "\n",
       "Returns the median of the array elements.\n",
       "\n",
       "Parameters\n",
       "----------\n",
       "a : array_like\n",
       "    Input array or object that can be converted to an array.\n",
       "axis : {int, sequence of int, None}, optional\n",
       "    Axis or axes along which the medians are computed. The default\n",
       "    is to compute the median along a flattened version of the array.\n",
       "    A sequence of axes is supported since version 1.9.0.\n",
       "out : ndarray, optional\n",
       "    Alternative output array in which to place the result. It must\n",
       "    have the same shape and buffer length as the expected output,\n",
       "    but the type (of the output) will be cast if necessary.\n",
       "overwrite_input : bool, optional\n",
       "   If True, then allow use of memory of input array `a` for\n",
       "   calculations. The input array will be modified by the call to\n",
       "   `median`. This will save memory when you do not need to preserve\n",
       "   the contents of the input array. Treat the input as undefined,\n",
       "   but it will probably be fully or partially sorted. Default is\n",
       "   False. If `overwrite_input` is ``True`` and `a` is not already an\n",
       "   `ndarray`, an error will be raised.\n",
       "keepdims : bool, optional\n",
       "    If this is set to True, the axes which are reduced are left\n",
       "    in the result as dimensions with size one. With this option,\n",
       "    the result will broadcast correctly against the original `arr`.\n",
       "\n",
       "    .. versionadded:: 1.9.0\n",
       "\n",
       "Returns\n",
       "-------\n",
       "median : ndarray\n",
       "    A new array holding the result. If the input contains integers\n",
       "    or floats smaller than ``float64``, then the output data-type is\n",
       "    ``np.float64``.  Otherwise, the data-type of the output is the\n",
       "    same as that of the input. If `out` is specified, that array is\n",
       "    returned instead.\n",
       "\n",
       "See Also\n",
       "--------\n",
       "mean, percentile\n",
       "\n",
       "Notes\n",
       "-----\n",
       "Given a vector ``V`` of length ``N``, the median of ``V`` is the\n",
       "middle value of a sorted copy of ``V``, ``V_sorted`` - i\n",
       "e., ``V_sorted[(N-1)/2]``, when ``N`` is odd, and the average of the\n",
       "two middle values of ``V_sorted`` when ``N`` is even.\n",
       "\n",
       "Examples\n",
       "--------\n",
       ">>> a = np.array([[10, 7, 4], [3, 2, 1]])\n",
       ">>> a\n",
       "array([[10,  7,  4],\n",
       "       [ 3,  2,  1]])\n",
       ">>> np.median(a)\n",
       "3.5\n",
       ">>> np.median(a, axis=0)\n",
       "array([6.5, 4.5, 2.5])\n",
       ">>> np.median(a, axis=1)\n",
       "array([7.,  2.])\n",
       ">>> m = np.median(a, axis=0)\n",
       ">>> out = np.zeros_like(m)\n",
       ">>> np.median(a, axis=0, out=m)\n",
       "array([6.5,  4.5,  2.5])\n",
       ">>> m\n",
       "array([6.5,  4.5,  2.5])\n",
       ">>> b = a.copy()\n",
       ">>> np.median(b, axis=1, overwrite_input=True)\n",
       "array([7.,  2.])\n",
       ">>> assert not np.all(a==b)\n",
       ">>> b = a.copy()\n",
       ">>> np.median(b, axis=None, overwrite_input=True)\n",
       "3.5\n",
       ">>> assert not np.all(a==b)\n",
       "\u001b[0;31mFile:\u001b[0m      /opt/anaconda3/lib/python3.8/site-packages/numpy/lib/function_base.py\n",
       "\u001b[0;31mType:\u001b[0m      function\n"
      ]
     },
     "metadata": {},
     "output_type": "display_data"
    }
   ],
   "source": [
    "numpy.median?"
   ]
  },
  {
   "cell_type": "code",
   "execution_count": 3,
   "id": "e5479c38-9cca-4f93-8299-b75412b4815a",
   "metadata": {},
   "outputs": [],
   "source": [
    "import numpy as np"
   ]
  },
  {
   "cell_type": "code",
   "execution_count": 11,
   "id": "cae5ee26-1468-4006-8ceb-f981eaf95e7c",
   "metadata": {},
   "outputs": [
    {
     "data": {
      "text/plain": [
       "4.0"
      ]
     },
     "execution_count": 11,
     "metadata": {},
     "output_type": "execute_result"
    }
   ],
   "source": [
    "np.median([1,2,4,5,7])"
   ]
  },
  {
   "cell_type": "code",
   "execution_count": 1,
   "id": "8e2e6e87-1b69-45da-9dd3-dae27fc1b3a5",
   "metadata": {},
   "outputs": [],
   "source": [
    "import na_utils"
   ]
  },
  {
   "cell_type": "code",
   "execution_count": 2,
   "id": "8f0fd462-22ea-4b92-b71c-84c69359b3fa",
   "metadata": {},
   "outputs": [
    {
     "data": {
      "text/plain": [
       "'GACGAUCUAGGCGACCGACUGGCAUCG'"
      ]
     },
     "execution_count": 2,
     "metadata": {},
     "output_type": "execute_result"
    }
   ],
   "source": [
    "# Sequence\n",
    "seq = 'GACGATCTAGGCGACCGACTGGCATCG'\n",
    "\n",
    "# Convert to RNA\n",
    "na_utils.dna_to_rna(seq)\n"
   ]
  },
  {
   "cell_type": "code",
   "execution_count": 4,
   "id": "069382a5-b983-4878-b1b1-77fd62a2c4cf",
   "metadata": {},
   "outputs": [
    {
     "data": {
      "text/plain": [
       "'CGAUGCCAGUCGGUCGCCUAGAUCGUC'"
      ]
     },
     "execution_count": 4,
     "metadata": {},
     "output_type": "execute_result"
    }
   ],
   "source": [
    "na_utils.reverse_rna_complement(seq)"
   ]
  },
  {
   "cell_type": "code",
   "execution_count": 5,
   "id": "a8e23468-8ab1-4c6c-96da-f67683d0291e",
   "metadata": {},
   "outputs": [],
   "source": [
    "%load_ext autoreload\n",
    "%autoreload 2"
   ]
  },
  {
   "cell_type": "code",
   "execution_count": null,
   "id": "db781eaa-60ba-4032-b42d-c29ce3b8432f",
   "metadata": {},
   "outputs": [],
   "source": []
  }
 ],
 "metadata": {
  "kernelspec": {
   "display_name": "Python 3",
   "language": "python",
   "name": "python3"
  },
  "language_info": {
   "codemirror_mode": {
    "name": "ipython",
    "version": 3
   },
   "file_extension": ".py",
   "mimetype": "text/x-python",
   "name": "python",
   "nbconvert_exporter": "python",
   "pygments_lexer": "ipython3",
   "version": "3.8.10"
  }
 },
 "nbformat": 4,
 "nbformat_minor": 5
}
