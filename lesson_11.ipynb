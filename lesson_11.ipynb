{
 "cells": [
  {
   "cell_type": "code",
   "execution_count": 1,
   "id": "2aba7cd8-9802-45ec-95a4-11bb67282174",
   "metadata": {},
   "outputs": [],
   "source": [
    "import os\n",
    "import glob"
   ]
  },
  {
   "cell_type": "code",
   "execution_count": 14,
   "id": "c76b8c0c-d248-4eb6-8764-a03f2ff437e9",
   "metadata": {},
   "outputs": [
    {
     "data": {
      "text/plain": [
       "'HEADER    ANTI-ONCOGENE                           13-JUN-94   1OLG              \\nTITLE     HIGH-RESOLUTION SOLUTION STRUCTURE OF THE OLIGOMERIZATION             \\nTITLE    2 DOMAIN OF P53 BY MULTI-DIMENSIONAL NMR                               \\nCOMPND    MOL_ID: 1;                                                            \\nCOMPND   2 MOLECULE: TUMOR SUPPRESSOR P53 (OLIGOMERIZATION DOMAIN);             \\nCOMPND   3 CHAIN: A, B, C, D;                                                   \\nCOMPND   4 ENGINEERED: YES                                                      \\nSOURCE    MOL_ID: 1;                                                            \\nSOURCE   2 ORGANISM_SCIENTIFIC: HOMO SAPIENS;                                   \\nSOURCE   3 ORGANISM_COMMON: HUMAN;                                              \\nSOURCE   4 ORGANISM_TAXID: 9606                                                 \\nKEYWDS    ANTI-ONCOGENE                                                         \\nEXPDTA    SOLUTION NMR      '"
      ]
     },
     "execution_count": 14,
     "metadata": {},
     "output_type": "execute_result"
    }
   ],
   "source": [
    "# Read file into string\n",
    "with open('data/1OLG.pdb', 'r') as f:\n",
    "    f_str = f.read()\n",
    "\n",
    "# Let's look at the first 1000 characters\n",
    "f_str[:1000]"
   ]
  },
  {
   "cell_type": "code",
   "execution_count": 15,
   "id": "289d4503-b8ce-4a6f-9764-c61b59c578e4",
   "metadata": {},
   "outputs": [
    {
     "data": {
      "text/plain": [
       "['HEADER    ANTI-ONCOGENE                           13-JUN-94   1OLG              \\n',\n",
       " 'TITLE     HIGH-RESOLUTION SOLUTION STRUCTURE OF THE OLIGOMERIZATION             \\n',\n",
       " 'TITLE    2 DOMAIN OF P53 BY MULTI-DIMENSIONAL NMR                               \\n',\n",
       " 'COMPND    MOL_ID: 1;                                                            \\n',\n",
       " 'COMPND   2 MOLECULE: TUMOR SUPPRESSOR P53 (OLIGOMERIZATION DOMAIN);             \\n',\n",
       " 'COMPND   3 CHAIN: A, B, C, D;                                                   \\n',\n",
       " 'COMPND   4 ENGINEERED: YES                                                      \\n',\n",
       " 'SOURCE    MOL_ID: 1;                                                            \\n',\n",
       " 'SOURCE   2 ORGANISM_SCIENTIFIC: HOMO SAPIENS;                                   \\n',\n",
       " 'SOURCE   3 ORGANISM_COMMON: HUMAN;                                              \\n']"
      ]
     },
     "execution_count": 15,
     "metadata": {},
     "output_type": "execute_result"
    }
   ],
   "source": [
    "# Read contents of the file in as a list\n",
    "with open('data/1OLG.pdb', 'r') as f:\n",
    "    f_list = f.readlines()\n",
    "\n",
    "# Look at the list (first ten entries)\n",
    "f_list[:10]"
   ]
  },
  {
   "cell_type": "code",
   "execution_count": 19,
   "id": "eb8b8902-3214-4d07-ae6a-16bc4788d41b",
   "metadata": {},
   "outputs": [
    {
     "name": "stdout",
     "output_type": "stream",
     "text": [
      "HEADER    ANTI-ONCOGENE                           13-JUN-94   1OLG              \n",
      "TITLE     HIGH-RESOLUTION SOLUTION STRUCTURE OF THE OLIGOMERIZATION             \n",
      "TITLE    2 DOMAIN OF P53 BY MULTI-DIMENSIONAL NMR                               \n",
      "COMPND    MOL_ID: 1;                                                            \n",
      "COMPND   2 MOLECULE: TUMOR SUPPRESSOR P53 (OLIGOMERIZATION DOMAIN);             \n",
      "COMPND   3 CHAIN: A, B, C, D;                                                   \n",
      "COMPND   4 ENGINEERED: YES                                                      \n",
      "SOURCE    MOL_ID: 1;                                                            \n",
      "SOURCE   2 ORGANISM_SCIENTIFIC: HOMO SAPIENS;                                   \n",
      "SOURCE   3 ORGANISM_COMMON: HUMAN;                                              \n"
     ]
    }
   ],
   "source": [
    "!head data/1OLG.pdb"
   ]
  },
  {
   "cell_type": "code",
   "execution_count": 21,
   "id": "cf487666-18dc-487d-9c33-ddd6b284d110",
   "metadata": {},
   "outputs": [
    {
     "name": "stdout",
     "output_type": "stream",
     "text": [
      "HEADER    ANTI-ONCOGENE                           13-JUN-94   1OLG\n",
      "TITLE     HIGH-RESOLUTION SOLUTION STRUCTURE OF THE OLIGOMERIZATION\n",
      "TITLE    2 DOMAIN OF P53 BY MULTI-DIMENSIONAL NMR\n",
      "COMPND    MOL_ID: 1;\n",
      "COMPND   2 MOLECULE: TUMOR SUPPRESSOR P53 (OLIGOMERIZATION DOMAIN);\n",
      "COMPND   3 CHAIN: A, B, C, D;\n",
      "COMPND   4 ENGINEERED: YES\n",
      "SOURCE    MOL_ID: 1;\n",
      "SOURCE   2 ORGANISM_SCIENTIFIC: HOMO SAPIENS;\n",
      "SOURCE   3 ORGANISM_COMMON: HUMAN;\n",
      "SOURCE   4 ORGANISM_TAXID: 9606\n"
     ]
    }
   ],
   "source": [
    " #Print the first ten lines of the file\n",
    "with open('data/1OLG.pdb', 'r') as f:\n",
    "    for i, line in enumerate(f):\n",
    "        print(line.rstrip())\n",
    "        if i >= 10:\n",
    "            break"
   ]
  },
  {
   "cell_type": "code",
   "execution_count": 22,
   "id": "e34e998a-2ad9-4c42-8ab8-f96b47ab2d74",
   "metadata": {},
   "outputs": [
    {
     "name": "stdout",
     "output_type": "stream",
     "text": [
      "HEADER    ANTI-ONCOGENE                           13-JUN-94   1OLG\n",
      "TITLE     HIGH-RESOLUTION SOLUTION STRUCTURE OF THE OLIGOMERIZATION\n",
      "TITLE    2 DOMAIN OF P53 BY MULTI-DIMENSIONAL NMR\n",
      "COMPND    MOL_ID: 1;\n",
      "COMPND   2 MOLECULE: TUMOR SUPPRESSOR P53 (OLIGOMERIZATION DOMAIN);\n",
      "COMPND   3 CHAIN: A, B, C, D;\n",
      "COMPND   4 ENGINEERED: YES\n",
      "SOURCE    MOL_ID: 1;\n",
      "SOURCE   2 ORGANISM_SCIENTIFIC: HOMO SAPIENS;\n",
      "SOURCE   3 ORGANISM_COMMON: HUMAN;\n"
     ]
    }
   ],
   "source": [
    "# Print the first ten lines of the file\n",
    "with open('data/1OLG.pdb', 'r') as f:\n",
    "    i = 0\n",
    "    while i < 10:\n",
    "        print(f.readline().rstrip())\n",
    "        i += 1"
   ]
  },
  {
   "cell_type": "code",
   "execution_count": 23,
   "id": "5c43e8f5-e122-481b-896e-23a194334ec8",
   "metadata": {},
   "outputs": [
    {
     "data": {
      "text/plain": [
       "True"
      ]
     },
     "execution_count": 23,
     "metadata": {},
     "output_type": "execute_result"
    }
   ],
   "source": [
    "os.path.isfile('data/1OLG.pdb')"
   ]
  },
  {
   "cell_type": "code",
   "execution_count": 24,
   "id": "15d875cb-d41a-4bb1-9ee6-be260766aab2",
   "metadata": {},
   "outputs": [],
   "source": [
    "if os.path.isfile('yogi.txt'):\n",
    "    raise RuntimeError('File yogi.txt already exists.')\n",
    "\n",
    "with open('yogi.txt', 'w') as f:\n",
    "    f.write('When you come to a fork in the road, take it.')\n",
    "    f.write('You can observe a lot by just watching.')\n",
    "    f.write('I never said most of the things I said.')"
   ]
  },
  {
   "cell_type": "code",
   "execution_count": 25,
   "id": "572176a8-0d76-47bf-b40f-9ff78de6bffb",
   "metadata": {},
   "outputs": [
    {
     "name": "stdout",
     "output_type": "stream",
     "text": [
      "When you come to a fork in the road, take it.You can observe a lot by just watching.I never said most of the things I said."
     ]
    }
   ],
   "source": [
    "!cat yogi.txt"
   ]
  },
  {
   "cell_type": "code",
   "execution_count": 26,
   "id": "0abf841d-f200-4d91-87a3-fda4bf63afec",
   "metadata": {},
   "outputs": [],
   "source": [
    "with open('yogi.txt', 'w') as f:\n",
    "    f.write('When you come to a fork in the road, take it.\\n')\n",
    "    f.write('You can observe a lot by just watching.\\n')\n",
    "    f.write('I never said most of the things I said.\\n')\n"
   ]
  },
  {
   "cell_type": "code",
   "execution_count": 27,
   "id": "8a55df76-7ded-42ce-838e-8a7e5d7efccd",
   "metadata": {},
   "outputs": [
    {
     "ename": "TypeError",
     "evalue": "write() argument must be str, not float",
     "output_type": "error",
     "traceback": [
      "\u001b[0;31m---------------------------------------------------------------------------\u001b[0m",
      "\u001b[0;31mTypeError\u001b[0m                                 Traceback (most recent call last)",
      "\u001b[0;32m<ipython-input-27-9265e8a96772>\u001b[0m in \u001b[0;36m<module>\u001b[0;34m\u001b[0m\n\u001b[1;32m      2\u001b[0m \u001b[0;32mwith\u001b[0m \u001b[0mopen\u001b[0m\u001b[0;34m(\u001b[0m\u001b[0;34m'gimme_phi.txt'\u001b[0m\u001b[0;34m,\u001b[0m \u001b[0;34m'w'\u001b[0m\u001b[0;34m)\u001b[0m \u001b[0;32mas\u001b[0m \u001b[0mf\u001b[0m\u001b[0;34m:\u001b[0m\u001b[0;34m\u001b[0m\u001b[0;34m\u001b[0m\u001b[0m\n\u001b[1;32m      3\u001b[0m     \u001b[0mf\u001b[0m\u001b[0;34m.\u001b[0m\u001b[0mwrite\u001b[0m\u001b[0;34m(\u001b[0m\u001b[0;34m'The golden ratio is φ = '\u001b[0m\u001b[0;34m)\u001b[0m\u001b[0;34m\u001b[0m\u001b[0;34m\u001b[0m\u001b[0m\n\u001b[0;32m----> 4\u001b[0;31m     \u001b[0mf\u001b[0m\u001b[0;34m.\u001b[0m\u001b[0mwrite\u001b[0m\u001b[0;34m(\u001b[0m\u001b[0;36m1.61803398875\u001b[0m\u001b[0;34m)\u001b[0m\u001b[0;34m\u001b[0m\u001b[0;34m\u001b[0m\u001b[0m\n\u001b[0m",
      "\u001b[0;31mTypeError\u001b[0m: write() argument must be str, not float"
     ]
    }
   ],
   "source": [
    "# This will result in an exception\n",
    "with open('gimme_phi.txt', 'w') as f:\n",
    "    f.write('The golden ratio is φ = ')\n",
    "    f.write(1.61803398875)"
   ]
  },
  {
   "cell_type": "code",
   "execution_count": 28,
   "id": "880f7619-5546-43ce-bfa9-3a812705dd9b",
   "metadata": {},
   "outputs": [],
   "source": [
    "with open('gimme_phi.txt', 'w') as f:\n",
    "    f.write('The golden ratio is φ = ')\n",
    "    f.write('{phi:.8f}'.format(phi=1.61803398875))\n"
   ]
  },
  {
   "cell_type": "code",
   "execution_count": 29,
   "id": "96b8bcd4-1249-41a3-8cae-c1097c9283b8",
   "metadata": {},
   "outputs": [
    {
     "name": "stdout",
     "output_type": "stream",
     "text": [
      "The golden ratio is φ = 1.61803399"
     ]
    }
   ],
   "source": [
    "!cat gimme_phi.txt"
   ]
  },
  {
   "cell_type": "code",
   "execution_count": 30,
   "id": "5f6ac786-1a35-4d4d-ae4b-85a86f36883d",
   "metadata": {},
   "outputs": [],
   "source": [
    "with open('data/1OLG.pdb', 'r') as f, open('atoms_chain_A.txt', 'w') as f_out:\n",
    "    # Put the ATOM lines from chain A in new file\n",
    "    for line in f:\n",
    "        if len(line) > 21 and line[:4] == 'ATOM' and line[21] == 'A':\n",
    "            f_out.write(line)"
   ]
  },
  {
   "cell_type": "code",
   "execution_count": 31,
   "id": "bc4a5968-4e4c-4ec9-b1f5-cf8f9c130068",
   "metadata": {},
   "outputs": [
    {
     "name": "stdout",
     "output_type": "stream",
     "text": [
      "ATOM      1  N   LYS A 319      18.634  25.437  10.685  1.00  4.81           N  \n",
      "ATOM      2  CA  LYS A 319      17.984  25.295   9.354  1.00  4.32           C  \n",
      "ATOM      3  C   LYS A 319      18.160  23.876   8.818  1.00  3.74           C  \n",
      "ATOM      4  O   LYS A 319      19.259  23.441   8.537  1.00  3.67           O  \n",
      "ATOM      5  CB  LYS A 319      18.609  26.282   8.371  1.00  4.67           C  \n",
      "ATOM      6  CG  LYS A 319      18.003  26.056   6.986  1.00  5.15           C  \n",
      "ATOM      7  CD  LYS A 319      16.476  26.057   7.091  1.00  5.90           C  \n",
      "ATOM      8  CE  LYS A 319      16.014  27.341   7.784  1.00  6.51           C  \n",
      "ATOM      9  NZ  LYS A 319      16.388  28.518   6.952  1.00  7.33           N  \n",
      "ATOM     10  H1  LYS A 319      18.414  24.606  11.281  1.00  5.09           H  \n"
     ]
    }
   ],
   "source": [
    "!head -10 atoms_chain_A.txt"
   ]
  },
  {
   "cell_type": "code",
   "execution_count": 32,
   "id": "93bd812d-55db-412c-9619-a6f7a6b0e3b6",
   "metadata": {},
   "outputs": [
    {
     "name": "stdout",
     "output_type": "stream",
     "text": [
      "ATOM    689  HD2 PRO A 359       0.183  25.663  13.542  1.00  4.71           H  \n",
      "ATOM    690  HD3 PRO A 359       0.246  23.956  13.062  1.00  4.53           H  \n",
      "ATOM    691  N   GLY A 360      -3.984  26.791  10.832  1.00  5.45           N  \n",
      "ATOM    692  CA  GLY A 360      -4.489  28.138  10.445  1.00  5.95           C  \n",
      "ATOM    693  C   GLY A 360      -5.981  28.236  10.765  1.00  6.77           C  \n",
      "ATOM    694  O   GLY A 360      -6.401  27.621  11.732  1.00  7.24           O  \n",
      "ATOM    695  OXT GLY A 360      -6.679  28.924  10.039  1.00  7.15           O  \n",
      "ATOM    696  H   GLY A 360      -4.589  26.020  10.828  1.00  5.72           H  \n",
      "ATOM    697  HA2 GLY A 360      -3.950  28.896  10.995  1.00  5.99           H  \n",
      "ATOM    698  HA3 GLY A 360      -4.341  28.288   9.386  1.00  6.05           H  \n"
     ]
    }
   ],
   "source": [
    "!tail -10 atoms_chain_A.txt"
   ]
  },
  {
   "cell_type": "code",
   "execution_count": 33,
   "id": "e681247f-3624-4c6c-a6db-1ed0b6f64530",
   "metadata": {},
   "outputs": [
    {
     "data": {
      "text/plain": [
       "['data/1FAG.pdb', 'data/1J6Z.pdb', 'data/1OLG.pdb', 'data/2ERK.pdb']"
      ]
     },
     "execution_count": 33,
     "metadata": {},
     "output_type": "execute_result"
    }
   ],
   "source": [
    "file_list = glob.glob('data/*.pdb')\n",
    "\n",
    "file_list"
   ]
  },
  {
   "cell_type": "code",
   "execution_count": 34,
   "id": "829c669e-232d-4ca7-a5ad-a0dc0cf13483",
   "metadata": {},
   "outputs": [],
   "source": [
    "# Dictionary to hold sequences\n",
    "seqs = {}\n",
    "\n",
    "# Loop through all matching files\n",
    "for file_name in file_list:\n",
    "    # Extract PDB ID\n",
    "    pdb_id = file_name[file_name.find('/')+1:file_name.rfind('.')]\n",
    "\n",
    "    # Initialize sequence string, which we build as we go along\n",
    "    seq = ''\n",
    "    with open(file_name, 'r') as f:\n",
    "        for line in f:\n",
    "            if len(line) > 11 and line[:6] == 'SEQRES' and line[11] == 'A':\n",
    "                seq += line[19:].rstrip() + ' '\n",
    "\n",
    "    # Build sequence with dash-joined three letter codes\n",
    "    seq = '-'.join(seq.split())\n",
    "\n",
    "    # Store in the dictionary\n",
    "    seqs[pdb_id] = seq"
   ]
  },
  {
   "cell_type": "code",
   "execution_count": null,
   "id": "a065d84b-5c87-49d6-ba0e-ac82c0ed9464",
   "metadata": {},
   "outputs": [],
   "source": []
  }
 ],
 "metadata": {
  "kernelspec": {
   "display_name": "Python 3",
   "language": "python",
   "name": "python3"
  },
  "language_info": {
   "codemirror_mode": {
    "name": "ipython",
    "version": 3
   },
   "file_extension": ".py",
   "mimetype": "text/x-python",
   "name": "python",
   "nbconvert_exporter": "python",
   "pygments_lexer": "ipython3",
   "version": "3.8.10"
  }
 },
 "nbformat": 4,
 "nbformat_minor": 5
}
