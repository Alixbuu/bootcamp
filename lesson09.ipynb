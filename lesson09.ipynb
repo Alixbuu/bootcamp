{
 "cells": [
  {
   "cell_type": "markdown",
   "id": "5769b4bb-4288-4bff-a1b0-d555813a923e",
   "metadata": {},
   "source": [
    "# dictionaries"
   ]
  },
  {
   "cell_type": "code",
   "execution_count": 2,
   "id": "0c26c43b-0e5d-4b68-a025-b9674ce7ec54",
   "metadata": {},
   "outputs": [
    {
     "data": {
      "text/plain": [
       "{'a': 6, 'b': 7, 'c': 27.6}"
      ]
     },
     "execution_count": 2,
     "metadata": {},
     "output_type": "execute_result"
    }
   ],
   "source": [
    "my_dict = {'a': 6, 'b': 7, 'c': 27.6}\n",
    "my_dict"
   ]
  },
  {
   "cell_type": "code",
   "execution_count": 3,
   "id": "d0a5632f-e2ab-4c30-baf2-434d3d5dc235",
   "metadata": {},
   "outputs": [
    {
     "data": {
      "text/plain": [
       "{'a': 6, 'b': 7, 'c': 27.6}"
      ]
     },
     "execution_count": 3,
     "metadata": {},
     "output_type": "execute_result"
    }
   ],
   "source": [
    "dict((('a', 6), ('b', 7), ('c', 27.6)))"
   ]
  },
  {
   "cell_type": "code",
   "execution_count": 4,
   "id": "26fc84a2-fa4f-48f0-9f0d-5929e6abab5b",
   "metadata": {},
   "outputs": [
    {
     "data": {
      "text/plain": [
       "{'a': 'yes', 'b': 'no', 'c': 'maybe'}"
      ]
     },
     "execution_count": 4,
     "metadata": {},
     "output_type": "execute_result"
    }
   ],
   "source": [
    "dict(a='yes', b='no', c='maybe')"
   ]
  },
  {
   "cell_type": "code",
   "execution_count": 5,
   "id": "9bac5568-dc35-4467-8ceb-d550d5f870ab",
   "metadata": {},
   "outputs": [
    {
     "data": {
      "text/plain": [
       "{0: 'zero',\n",
       " 1.7: [1, 2, 3],\n",
       " (5, 6, 'dummy string'): 3.14,\n",
       " 'strings are immutable': 42}"
      ]
     },
     "execution_count": 5,
     "metadata": {},
     "output_type": "execute_result"
    }
   ],
   "source": [
    "my_dict = {\n",
    "    0: 'zero',\n",
    "    1.7: [1, 2, 3],\n",
    "    (5, 6, 'dummy string'): 3.14,\n",
    "    'strings are immutable': 42\n",
    "}\n",
    "\n",
    "my_dict"
   ]
  },
  {
   "cell_type": "code",
   "execution_count": 6,
   "id": "1ef4ba89-2552-4137-85e1-f835266966fd",
   "metadata": {},
   "outputs": [],
   "source": [
    "aa_dict = {\n",
    "    \"A\": \"Ala\",\n",
    "    \"R\": \"Arg\",\n",
    "    \"N\": \"Asn\",\n",
    "    \"D\": \"Asp\",\n",
    "    \"C\": \"Cys\",\n",
    "    \"Q\": \"Gln\",\n",
    "    \"E\": \"Glu\",\n",
    "    \"G\": \"Gly\",\n",
    "    \"H\": \"His\",\n",
    "    \"I\": \"Ile\",\n",
    "    \"L\": \"Leu\",\n",
    "    \"K\": \"Lys\",\n",
    "    \"M\": \"Met\",\n",
    "    \"F\": \"Phe\",\n",
    "    \"P\": \"Pro\",\n",
    "    \"S\": \"Ser\",\n",
    "    \"T\": \"Thr\",\n",
    "    \"W\": \"Trp\",\n",
    "    \"Y\": \"Tyr\",\n",
    "    \"V\": \"Val\",\n",
    "}"
   ]
  },
  {
   "cell_type": "code",
   "execution_count": 7,
   "id": "66ef255e-d0d1-46b1-84f7-7dbaf4e2244f",
   "metadata": {},
   "outputs": [
    {
     "data": {
      "text/plain": [
       "'Thr'"
      ]
     },
     "execution_count": 7,
     "metadata": {},
     "output_type": "execute_result"
    }
   ],
   "source": [
    "aa_dict['T']"
   ]
  },
  {
   "cell_type": "code",
   "execution_count": 8,
   "id": "99f87812-0828-4e7e-8b5b-2b016cbd6f1a",
   "metadata": {},
   "outputs": [
    {
     "name": "stdout",
     "output_type": "stream",
     "text": [
      "{'TTT': 'F', 'TTC': 'F', 'TTA': 'L', 'TTG': 'L', 'TCT': 'S', 'TCC': 'S', 'TCA': 'S', 'TCG': 'S', 'TAT': 'Y', 'TAC': 'Y', 'TAA': '*', 'TAG': '*', 'TGT': 'C', 'TGC': 'C', 'TGA': '*', 'TGG': 'W', 'CTT': 'L', 'CTC': 'L', 'CTA': 'L', 'CTG': 'L', 'CCT': 'P', 'CCC': 'P', 'CCA': 'P', 'CCG': 'P', 'CAT': 'H', 'CAC': 'H', 'CAA': 'Q', 'CAG': 'Q', 'CGT': 'R', 'CGC': 'R', 'CGA': 'R', 'CGG': 'R', 'ATT': 'I', 'ATC': 'I', 'ATA': 'I', 'ATG': 'M', 'ACT': 'T', 'ACC': 'T', 'ACA': 'T', 'ACG': 'T', 'AAT': 'N', 'AAC': 'N', 'AAA': 'K', 'AAG': 'K', 'AGT': 'S', 'AGC': 'S', 'AGA': 'R', 'AGG': 'R', 'GTT': 'V', 'GTC': 'V', 'GTA': 'V', 'GTG': 'V', 'GCT': 'A', 'GCC': 'A', 'GCA': 'A', 'GCG': 'A', 'GAT': 'D', 'GAC': 'D', 'GAA': 'E', 'GAG': 'E', 'GGT': 'G', 'GGC': 'G', 'GGA': 'G', 'GGG': 'G'}\n"
     ]
    }
   ],
   "source": [
    "# The set of DNA bases\n",
    "bases = ['T', 'C', 'A', 'G']\n",
    "\n",
    "# Build list of codons\n",
    "codon_list = []\n",
    "for first_base in bases:\n",
    "    for second_base in bases:\n",
    "        for third_base in bases:\n",
    "            codon_list += [first_base + second_base + third_base]\n",
    "\n",
    "# The amino acids that are coded for (* = STOP codon)\n",
    "amino_acids = 'FFLLSSSSYY**CC*WLLLLPPPPHHQQRRRRIIIMTTTTNNKKSSRRVVVVAAAADDEEGGGG'\n",
    "\n",
    "# Build dictionary from tuple of 2-tuples (technically an iterator, but it works)\n",
    "codons = dict(zip(codon_list, amino_acids))\n",
    "\n",
    "# Show that we did it\n",
    "print(codons)"
   ]
  },
  {
   "cell_type": "code",
   "execution_count": 9,
   "id": "8aa9ce62-0c25-4f6e-a3dc-6327fc6db4fa",
   "metadata": {},
   "outputs": [
    {
     "name": "stdout",
     "output_type": "stream",
     "text": [
      "4500803712\n",
      "4461103616\n",
      "4461103648\n",
      "4500761968\n"
     ]
    }
   ],
   "source": [
    "# Create dictionary\n",
    "my_dict = {'a': 6, 'b': 7, 'c':12.6}\n",
    "\n",
    "# Find where they are stored\n",
    "print(id(my_dict))\n",
    "print(id(my_dict['a']))\n",
    "print(id(my_dict['b']))\n",
    "print(id(my_dict['c']))"
   ]
  },
  {
   "cell_type": "code",
   "execution_count": 10,
   "id": "d0670f4d-339a-4133-843c-52f07c88845d",
   "metadata": {},
   "outputs": [
    {
     "name": "stdout",
     "output_type": "stream",
     "text": [
      "{'a': 6, 'b': 7, 'c': 12.6}\n",
      "{'a': 6, 'b': 7, 'c': 12.6, 'd': 'Bootcamp is so much fun!'}\n",
      "{'a': 'I was not satisfied with entry a.', 'b': 7, 'c': 12.6, 'd': 'Bootcamp is so much fun!'}\n"
     ]
    }
   ],
   "source": [
    "# Remind ourselves what the dictionary is\n",
    "print(my_dict)\n",
    "\n",
    "# Add an entry\n",
    "my_dict['d'] = 'Bootcamp is so much fun!'\n",
    "\n",
    "# Look at dictionary again\n",
    "print(my_dict)\n",
    "\n",
    "# Change an entry\n",
    "my_dict['a'] = 'I was not satisfied with entry a.'\n",
    "\n",
    "# Look at it again\n",
    "print(my_dict)"
   ]
  },
  {
   "cell_type": "code",
   "execution_count": 17,
   "id": "ffeefe29-cfdd-40f9-8dc7-04defb35c30e",
   "metadata": {},
   "outputs": [
    {
     "name": "stdout",
     "output_type": "stream",
     "text": [
      "a : I was not satisfied with entry a.\n",
      "b : 7\n",
      "c : 12.6\n",
      "d : Bootcamp is so much fun!\n"
     ]
    }
   ],
   "source": [
    "\"a\" in my_dict # only work with key\n",
    "for key in my_dict:\n",
    "    print(key,\":\",my_dict[key])"
   ]
  },
  {
   "cell_type": "code",
   "execution_count": 18,
   "id": "3066dd1a-fedd-4319-a5d9-d3268819da91",
   "metadata": {},
   "outputs": [
    {
     "name": "stdout",
     "output_type": "stream",
     "text": [
      "a I was not satisfied with entry a.\n",
      "b 7\n",
      "c 12.6\n",
      "d Bootcamp is so much fun!\n"
     ]
    }
   ],
   "source": [
    "for key,val in my_dict.items():\n",
    "    print(key,val)"
   ]
  },
  {
   "cell_type": "code",
   "execution_count": 20,
   "id": "51c625d3-fa8f-4c48-9d98-e57dd81bc206",
   "metadata": {},
   "outputs": [
    {
     "data": {
      "text/plain": [
       "{'a': 'I was not satisfied with entry a.',\n",
       " 'b': 7,\n",
       " 'c': 12.6,\n",
       " 'd': 'Bootcamp is so much fun!'}"
      ]
     },
     "execution_count": 20,
     "metadata": {},
     "output_type": "execute_result"
    }
   ],
   "source": [
    "for key, value in my_dict.items():\n",
    "    value = 'this string will not be in dictionary.'\n",
    "\n",
    "my_dict\n"
   ]
  },
  {
   "cell_type": "code",
   "execution_count": 21,
   "id": "2ee460bb-c172-4c7e-9998-9e62bcc24dac",
   "metadata": {},
   "outputs": [
    {
     "data": {
      "text/plain": [
       "{'a': 'this will be in the dictionary.',\n",
       " 'b': 'this will be in the dictionary.',\n",
       " 'c': 'this will be in the dictionary.',\n",
       " 'd': 'this will be in the dictionary.'}"
      ]
     },
     "execution_count": 21,
     "metadata": {},
     "output_type": "execute_result"
    }
   ],
   "source": [
    "for key, _ in my_dict.items():\n",
    "    my_dict[key] = 'this will be in the dictionary.'\n",
    "\n",
    "my_dict"
   ]
  },
  {
   "cell_type": "code",
   "execution_count": 22,
   "id": "289fb010-9a03-428a-9e17-318d74239dfe",
   "metadata": {},
   "outputs": [
    {
     "name": "stdout",
     "output_type": "stream",
     "text": [
      "my_dict: {'a': 1, 'b': 2, 'c': 3, 'd': 4}\n",
      "my_list: [1, 2, 3, 4]\n"
     ]
    }
   ],
   "source": [
    "# Create my_list and my_dict for reference\n",
    "my_dict = dict(a=1, b=2, c=3, d=4)\n",
    "my_list = [1, 2, 3, 4]\n",
    "# Print them\n",
    "print('my_dict:', my_dict)\n",
    "print('my_list:', my_list)\n"
   ]
  },
  {
   "cell_type": "code",
   "execution_count": 23,
   "id": "9e24518b-d820-400e-b33b-0fe91fe3eeab",
   "metadata": {},
   "outputs": [
    {
     "name": "stdout",
     "output_type": "stream",
     "text": [
      "length of my_dict: 4\n",
      "length of my_list: 4\n"
     ]
    }
   ],
   "source": [
    "# Get lengths\n",
    "print('length of my_dict:', len(my_dict))\n",
    "print('length of my_list:', len(my_list))"
   ]
  },
  {
   "cell_type": "code",
   "execution_count": 24,
   "id": "c6ae82bc-648d-459b-904c-d2b84328f6cc",
   "metadata": {},
   "outputs": [],
   "source": [
    "# Delete a key from my_dict\n",
    "del my_dict['b']\n",
    "\n",
    "# Delete entry from my_list\n",
    "del my_list[1]"
   ]
  },
  {
   "cell_type": "code",
   "execution_count": 25,
   "id": "a4479d96-c9ba-4e79-b380-d919c9bd7310",
   "metadata": {},
   "outputs": [
    {
     "name": "stdout",
     "output_type": "stream",
     "text": [
      "post-deleted my_dict: {'a': 1, 'c': 3, 'd': 4}\n",
      "post-deleted my_list: [1, 3, 4]\n"
     ]
    }
   ],
   "source": [
    "# Show post-deleted objects\n",
    "print('post-deleted my_dict:', my_dict)\n",
    "print('post-deleted my_list:', my_list)"
   ]
  },
  {
   "cell_type": "code",
   "execution_count": 26,
   "id": "84bdffd6-d3ea-4065-8056-044cf957961d",
   "metadata": {},
   "outputs": [
    {
     "data": {
      "text/plain": [
       "dict_values([1, 3, 4])"
      ]
     },
     "execution_count": 26,
     "metadata": {},
     "output_type": "execute_result"
    }
   ],
   "source": [
    "my_dict.values()"
   ]
  },
  {
   "cell_type": "code",
   "execution_count": 27,
   "id": "49cf75a6-b3da-4c7a-8c0e-506213a82355",
   "metadata": {},
   "outputs": [
    {
     "data": {
      "text/plain": [
       "dict_keys(['a', 'b', 'c', 'd'])"
      ]
     },
     "execution_count": 27,
     "metadata": {},
     "output_type": "execute_result"
    }
   ],
   "source": [
    "my_dict = dict(a=1, b=2, c=3, d=4)\n",
    "\n",
    "my_dict.keys()"
   ]
  },
  {
   "cell_type": "code",
   "execution_count": 28,
   "id": "4aced329-be69-4a19-b6bc-5f691459a928",
   "metadata": {},
   "outputs": [
    {
     "data": {
      "text/plain": [
       "4"
      ]
     },
     "execution_count": 28,
     "metadata": {},
     "output_type": "execute_result"
    }
   ],
   "source": [
    "my_dict.get('d')"
   ]
  },
  {
   "cell_type": "code",
   "execution_count": 29,
   "id": "ead388d0-65f2-44b5-a97a-d32f4fe5ade2",
   "metadata": {},
   "outputs": [
    {
     "data": {
      "text/plain": [
       "3"
      ]
     },
     "execution_count": 29,
     "metadata": {},
     "output_type": "execute_result"
    }
   ],
   "source": [
    "my_dict.get('c')"
   ]
  },
  {
   "cell_type": "code",
   "execution_count": 30,
   "id": "d9f1919f-b579-45e6-8281-c291a91e1869",
   "metadata": {},
   "outputs": [
    {
     "data": {
      "text/plain": [
       "3"
      ]
     },
     "execution_count": 30,
     "metadata": {},
     "output_type": "execute_result"
    }
   ],
   "source": [
    "my_dict.pop('c')\n"
   ]
  },
  {
   "cell_type": "code",
   "execution_count": 31,
   "id": "09abfab0-5ccf-4ab5-9c7c-fbaa5185cac6",
   "metadata": {},
   "outputs": [],
   "source": [
    "my_dict.get('c')"
   ]
  },
  {
   "cell_type": "code",
   "execution_count": 32,
   "id": "a69de4ca-d845-4eda-9fb2-011d660e0f73",
   "metadata": {},
   "outputs": [],
   "source": [
    "def concatenate_sequences(a, b, **kwargs):\n",
    "    \"\"\"Concatenate (combine) 2 or more sequences.\"\"\"\n",
    "    seq = a + b\n",
    "\n",
    "    for key in kwargs:\n",
    "        seq += kwargs[key]\n",
    "\n",
    "    return seq"
   ]
  },
  {
   "cell_type": "code",
   "execution_count": 33,
   "id": "4065c000-85fb-4254-83fd-3b992b3404e4",
   "metadata": {},
   "outputs": [
    {
     "data": {
      "text/plain": [
       "'TGACACCAGGGAGGGGGGGGGAAAATTTTT'"
      ]
     },
     "execution_count": 33,
     "metadata": {},
     "output_type": "execute_result"
    }
   ],
   "source": [
    "concatenate_sequences('TGACAC', 'CAGGGA', c='GGGGGGGGG', d='AAAATTTTT')"
   ]
  },
  {
   "cell_type": "code",
   "execution_count": 34,
   "id": "f51c96b7-1597-48dc-8272-ffb5a7107376",
   "metadata": {},
   "outputs": [],
   "source": [
    "my_dict = {\"a\": \"TGACAC\", \"b\": \"CAGGGA\", \"c\": \"GGGGGGGGG\", \"d\": \"AAAATTTTT\"}"
   ]
  },
  {
   "cell_type": "code",
   "execution_count": 35,
   "id": "43a9dc7f-5731-46b5-9a28-4fdac5cfddf4",
   "metadata": {},
   "outputs": [
    {
     "data": {
      "text/plain": [
       "'TGACACCAGGGAGGGGGGGGGAAAATTTTT'"
      ]
     },
     "execution_count": 35,
     "metadata": {},
     "output_type": "execute_result"
    }
   ],
   "source": [
    "concatenate_sequences(**my_dict)"
   ]
  },
  {
   "cell_type": "code",
   "execution_count": 36,
   "id": "830e8786-2795-4f32-a1be-f22d45f415a4",
   "metadata": {},
   "outputs": [
    {
     "data": {
      "text/plain": [
       "{'a': 'TGACAC',\n",
       " 'b': 'CAGGGA',\n",
       " 'c': 'GGGGGGGGG',\n",
       " 'd': 'AAAATTTTT',\n",
       " 'KpnI': 'GGTACC',\n",
       " 'HindII': 'AAGCTT',\n",
       " 'ecoRI': 'GAATTC',\n",
       " 'another_seq': 'AGTGTAGTG'}"
      ]
     },
     "execution_count": 36,
     "metadata": {},
     "output_type": "execute_result"
    }
   ],
   "source": [
    "restriction_dict = {\"KpnI\": \"GGTACC\", \"HindII\": \"AAGCTT\", \"ecoRI\": \"GAATTC\"}\n",
    "\n",
    "dict(**my_dict, **restriction_dict, another_seq=\"AGTGTAGTG\")"
   ]
  },
  {
   "cell_type": "code",
   "execution_count": null,
   "id": "ceb39fe2-e80f-4940-b433-7ebc6813120b",
   "metadata": {},
   "outputs": [],
   "source": []
  }
 ],
 "metadata": {
  "kernelspec": {
   "display_name": "Python 3",
   "language": "python",
   "name": "python3"
  },
  "language_info": {
   "codemirror_mode": {
    "name": "ipython",
    "version": 3
   },
   "file_extension": ".py",
   "mimetype": "text/x-python",
   "name": "python",
   "nbconvert_exporter": "python",
   "pygments_lexer": "ipython3",
   "version": "3.8.10"
  }
 },
 "nbformat": 4,
 "nbformat_minor": 5
}
