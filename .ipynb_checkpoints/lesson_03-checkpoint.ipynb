{
 "cells": [
  {
   "cell_type": "markdown",
   "id": "c5382640-a822-43d3-bd47-b11de3babffc",
   "metadata": {},
   "source": [
    "# Type\n"
   ]
  },
  {
   "cell_type": "code",
   "execution_count": 1,
   "id": "0f79950f-5d4d-48e2-ac05-f0f6b765d9d1",
   "metadata": {},
   "outputs": [
    {
     "data": {
      "text/plain": [
       "int"
      ]
     },
     "execution_count": 1,
     "metadata": {},
     "output_type": "execute_result"
    }
   ],
   "source": [
    "type(2)"
   ]
  },
  {
   "cell_type": "code",
   "execution_count": 2,
   "id": "c6874568-4301-4211-8133-e724818f2ca0",
   "metadata": {},
   "outputs": [
    {
     "data": {
      "text/plain": [
       "float"
      ]
     },
     "execution_count": 2,
     "metadata": {},
     "output_type": "execute_result"
    }
   ],
   "source": [
    "type(2.3)"
   ]
  },
  {
   "cell_type": "code",
   "execution_count": 3,
   "id": "924e89ca-01c4-42ad-b12a-906b91f184c6",
   "metadata": {},
   "outputs": [
    {
     "data": {
      "text/plain": [
       "str"
      ]
     },
     "execution_count": 3,
     "metadata": {},
     "output_type": "execute_result"
    }
   ],
   "source": [
    "type(\"hello world\")"
   ]
  },
  {
   "cell_type": "code",
   "execution_count": 4,
   "id": "69522096-1229-4863-8e64-7a418f99ab19",
   "metadata": {},
   "outputs": [
    {
     "data": {
      "text/plain": [
       "float"
      ]
     },
     "execution_count": 4,
     "metadata": {},
     "output_type": "execute_result"
    }
   ],
   "source": [
    "type(4.5e-7)"
   ]
  },
  {
   "cell_type": "code",
   "execution_count": 5,
   "id": "0b4ff629-33c3-4a36-bb3c-18b95407b1a7",
   "metadata": {},
   "outputs": [
    {
     "data": {
      "text/plain": [
       "'my string'"
      ]
     },
     "execution_count": 5,
     "metadata": {},
     "output_type": "execute_result"
    }
   ],
   "source": [
    "'my string'"
   ]
  },
  {
   "cell_type": "code",
   "execution_count": 6,
   "id": "f5cb1b28-0e68-4ca3-89ab-29eaf70d9f8f",
   "metadata": {},
   "outputs": [
    {
     "name": "stdout",
     "output_type": "stream",
     "text": [
      "\" it was the best of times\n",
      "it was the worst time...\n"
     ]
    }
   ],
   "source": [
    "# a multi line string\n",
    "my_str = \"\"\"\" it was the best of times\n",
    "it was the worst time...\"\"\"\n",
    "print(my_str)"
   ]
  },
  {
   "cell_type": "markdown",
   "id": "35882b6a-e4cf-433c-a7a6-af0ce1718c1b",
   "metadata": {},
   "source": [
    "# Operators\n"
   ]
  },
  {
   "cell_type": "code",
   "execution_count": 7,
   "id": "335be51e-4a0b-4a99-a5bd-442ea247f207",
   "metadata": {},
   "outputs": [
    {
     "data": {
      "text/plain": [
       "5"
      ]
     },
     "execution_count": 7,
     "metadata": {},
     "output_type": "execute_result"
    }
   ],
   "source": [
    "2+3"
   ]
  },
  {
   "cell_type": "code",
   "execution_count": 8,
   "id": "613ed95d-e398-4bdd-87d1-b0d2bde5aeff",
   "metadata": {},
   "outputs": [
    {
     "data": {
      "text/plain": [
       "-1"
      ]
     },
     "execution_count": 8,
     "metadata": {},
     "output_type": "execute_result"
    }
   ],
   "source": [
    "2-3\n"
   ]
  },
  {
   "cell_type": "code",
   "execution_count": 9,
   "id": "8cb3f871-5908-488c-8288-2facc6b5262a",
   "metadata": {},
   "outputs": [
    {
     "data": {
      "text/plain": [
       "6"
      ]
     },
     "execution_count": 9,
     "metadata": {},
     "output_type": "execute_result"
    }
   ],
   "source": [
    "2*3\n"
   ]
  },
  {
   "cell_type": "code",
   "execution_count": 10,
   "id": "5c2ac14c-dbb5-410f-a645-8b77e137358d",
   "metadata": {},
   "outputs": [
    {
     "data": {
      "text/plain": [
       "0.6666666666666666"
      ]
     },
     "execution_count": 10,
     "metadata": {},
     "output_type": "execute_result"
    }
   ],
   "source": [
    "2/3"
   ]
  },
  {
   "cell_type": "code",
   "execution_count": 11,
   "id": "7f0d841b-1a0c-4dc3-89c5-dfc553fccb6d",
   "metadata": {},
   "outputs": [
    {
     "data": {
      "text/plain": [
       "8"
      ]
     },
     "execution_count": 11,
     "metadata": {},
     "output_type": "execute_result"
    }
   ],
   "source": [
    "2**3"
   ]
  },
  {
   "cell_type": "code",
   "execution_count": 12,
   "id": "da1c3564-b7a0-4579-9003-cdff74192e00",
   "metadata": {},
   "outputs": [
    {
     "data": {
      "text/plain": [
       "2"
      ]
     },
     "execution_count": 12,
     "metadata": {},
     "output_type": "execute_result"
    }
   ],
   "source": [
    "2%3"
   ]
  },
  {
   "cell_type": "code",
   "execution_count": 13,
   "id": "6ae8b6fb-33a4-4f92-8521-361be82b30e1",
   "metadata": {},
   "outputs": [
    {
     "data": {
      "text/plain": [
       "0"
      ]
     },
     "execution_count": 13,
     "metadata": {},
     "output_type": "execute_result"
    }
   ],
   "source": [
    "2//3"
   ]
  },
  {
   "cell_type": "code",
   "execution_count": 14,
   "id": "6b838098-3bd2-4500-aa05-f15a94f0e2a0",
   "metadata": {},
   "outputs": [
    {
     "data": {
      "text/plain": [
       "5.300000000000001"
      ]
     },
     "execution_count": 14,
     "metadata": {},
     "output_type": "execute_result"
    }
   ],
   "source": [
    "2.1 + 3.2"
   ]
  },
  {
   "cell_type": "code",
   "execution_count": 15,
   "id": "bc48c5ee-d8c4-4d3e-ab29-32b7942ba7ab",
   "metadata": {},
   "outputs": [
    {
     "data": {
      "text/plain": [
       "-1.1"
      ]
     },
     "execution_count": 15,
     "metadata": {},
     "output_type": "execute_result"
    }
   ],
   "source": [
    "2.1 - 3.2\n"
   ]
  },
  {
   "cell_type": "code",
   "execution_count": 16,
   "id": "a1ee0bc3-40fb-4c2f-9777-7502e1e815f2",
   "metadata": {},
   "outputs": [
    {
     "data": {
      "text/plain": [
       "6.720000000000001"
      ]
     },
     "execution_count": 16,
     "metadata": {},
     "output_type": "execute_result"
    }
   ],
   "source": [
    "2.1 * 3.2"
   ]
  },
  {
   "cell_type": "code",
   "execution_count": 17,
   "id": "7f326340-683c-469d-872a-d02e5b3fe4cb",
   "metadata": {},
   "outputs": [
    {
     "data": {
      "text/plain": [
       "-8.881784197001252e-16"
      ]
     },
     "execution_count": 17,
     "metadata": {},
     "output_type": "execute_result"
    }
   ],
   "source": [
    "# Very very close to zero because of finite precision\n",
    "5.3 - (2.1 + 3.2)"
   ]
  },
  {
   "cell_type": "code",
   "execution_count": 18,
   "id": "782a699f-fa26-47dd-86bd-8db620f3ff20",
   "metadata": {},
   "outputs": [
    {
     "data": {
      "text/plain": [
       "0.65625"
      ]
     },
     "execution_count": 18,
     "metadata": {},
     "output_type": "execute_result"
    }
   ],
   "source": [
    "2.1 / 3.2\n"
   ]
  },
  {
   "cell_type": "code",
   "execution_count": 19,
   "id": "85fc333e-c5ba-4d19-b9eb-2f2af209a42c",
   "metadata": {},
   "outputs": [
    {
     "ename": "ZeroDivisionError",
     "evalue": "float division by zero",
     "output_type": "error",
     "traceback": [
      "\u001b[0;31m---------------------------------------------------------------------------\u001b[0m",
      "\u001b[0;31mZeroDivisionError\u001b[0m                         Traceback (most recent call last)",
      "\u001b[0;32m<ipython-input-19-3976fa153464>\u001b[0m in \u001b[0;36m<module>\u001b[0;34m\u001b[0m\n\u001b[0;32m----> 1\u001b[0;31m \u001b[0;36m2.1\u001b[0m\u001b[0;34m/\u001b[0m\u001b[0;36m0\u001b[0m\u001b[0;34m\u001b[0m\u001b[0;34m\u001b[0m\u001b[0m\n\u001b[0m",
      "\u001b[0;31mZeroDivisionError\u001b[0m: float division by zero"
     ]
    }
   ],
   "source": [
    "2.1/0"
   ]
  },
  {
   "cell_type": "markdown",
   "id": "fdec32ad-1f36-4ba6-87fa-39934667182d",
   "metadata": {},
   "source": [
    "# operations on string"
   ]
  },
  {
   "cell_type": "code",
   "execution_count": null,
   "id": "6c9a2976-6c3c-4d3d-8e15-54e54c6c2e36",
   "metadata": {},
   "outputs": [],
   "source": [
    "'Hello, world.' * 3"
   ]
  },
  {
   "cell_type": "code",
   "execution_count": null,
   "id": "d6ec56d8-7d7e-4e26-83f4-196e5f546f1e",
   "metadata": {},
   "outputs": [],
   "source": [
    "'4' + '2'"
   ]
  },
  {
   "cell_type": "markdown",
   "id": "4932c83d-c5d2-459b-855a-99c04e7f4f5a",
   "metadata": {},
   "source": [
    "# order of operations"
   ]
  },
  {
   "cell_type": "code",
   "execution_count": null,
   "id": "5f5da4b8-052a-4c78-a08a-0522b02b5867",
   "metadata": {},
   "outputs": [],
   "source": [
    "1 + 4**2"
   ]
  },
  {
   "cell_type": "code",
   "execution_count": null,
   "id": "873494cc-b42f-400b-a676-5ede304dac69",
   "metadata": {},
   "outputs": [],
   "source": [
    "1 + 4**2"
   ]
  },
  {
   "cell_type": "code",
   "execution_count": null,
   "id": "d813ff01-576c-4fa9-9ffa-3e403e150253",
   "metadata": {},
   "outputs": [],
   "source": [
    "(1 + 2 + 3 + 4)**2"
   ]
  },
  {
   "cell_type": "code",
   "execution_count": null,
   "id": "e3f055a6-bfe2-45e9-aae1-fe7ddca2c3d3",
   "metadata": {},
   "outputs": [],
   "source": [
    "1**3 + 2**3 + 3**3 + 4**3"
   ]
  },
  {
   "cell_type": "markdown",
   "id": "48e0b0a1-6b02-4ab7-b3aa-64e223d2c5cc",
   "metadata": {},
   "source": [
    "# variables and assignment operators"
   ]
  },
  {
   "cell_type": "code",
   "execution_count": null,
   "id": "cc23a7c2-0baa-498d-94b3-d36ff7dc8b15",
   "metadata": {},
   "outputs": [],
   "source": [
    "a = 2\n",
    "b = 3\n",
    "a + b"
   ]
  },
  {
   "cell_type": "code",
   "execution_count": null,
   "id": "ebb11b9b-5342-49a7-8862-540c1e23f7ea",
   "metadata": {},
   "outputs": [],
   "source": [
    "a,b"
   ]
  },
  {
   "cell_type": "code",
   "execution_count": null,
   "id": "ea25f737-93f6-4443-8d26-03f6c94c74ce",
   "metadata": {},
   "outputs": [],
   "source": [
    "print(type(a), a)\n",
    "a = a + 4.1\n",
    "print(type(a), a)"
   ]
  },
  {
   "cell_type": "code",
   "execution_count": null,
   "id": "813f725a-b18e-45d3-8c27-efea1549b5b1",
   "metadata": {},
   "outputs": [],
   "source": [
    "a = 2\n",
    "a += 4.1\n",
    "a"
   ]
  },
  {
   "cell_type": "code",
   "execution_count": null,
   "id": "d34903ff-dabd-4f92-ab3a-f01d57f394e7",
   "metadata": {},
   "outputs": [],
   "source": [
    "a = 2\n",
    "a **= 3\n",
    "a"
   ]
  },
  {
   "cell_type": "markdown",
   "id": "9be312ed-a0ae-4b62-a805-108b339fe61f",
   "metadata": {},
   "source": [
    "# Type conversion"
   ]
  },
  {
   "cell_type": "code",
   "execution_count": 20,
   "id": "e6f27aef-80a7-4847-8834-dadb408e8f94",
   "metadata": {},
   "outputs": [
    {
     "name": "stdout",
     "output_type": "stream",
     "text": [
      "42 <class 'int'>\n"
     ]
    }
   ],
   "source": [
    "my_str = '42'\n",
    "my_int = int(my_str)\n",
    "print(my_int, type(my_int))"
   ]
  },
  {
   "cell_type": "code",
   "execution_count": null,
   "id": "133c2ee0-2358-44d9-b7ed-d75b0cbec900",
   "metadata": {},
   "outputs": [],
   "source": [
    "my_int"
   ]
  },
  {
   "cell_type": "code",
   "execution_count": 21,
   "id": "415027c9-f6ff-4385-b321-78f73f380a75",
   "metadata": {},
   "outputs": [
    {
     "data": {
      "text/plain": [
       "'42'"
      ]
     },
     "execution_count": 21,
     "metadata": {},
     "output_type": "execute_result"
    }
   ],
   "source": [
    "str(my_int)"
   ]
  },
  {
   "cell_type": "code",
   "execution_count": 22,
   "id": "ac55a04f-8179-42de-9c26-48776afb9ab5",
   "metadata": {},
   "outputs": [
    {
     "data": {
      "text/plain": [
       "int"
      ]
     },
     "execution_count": 22,
     "metadata": {},
     "output_type": "execute_result"
    }
   ],
   "source": [
    "type(my_int)"
   ]
  },
  {
   "cell_type": "code",
   "execution_count": 23,
   "id": "2b5b60d1-8e9b-41ec-aacd-da72e8258a76",
   "metadata": {},
   "outputs": [
    {
     "data": {
      "text/plain": [
       "2"
      ]
     },
     "execution_count": 23,
     "metadata": {},
     "output_type": "execute_result"
    }
   ],
   "source": [
    "int(2.9)"
   ]
  },
  {
   "cell_type": "code",
   "execution_count": 24,
   "id": "464116c0-326e-4294-8fca-76150b1129b0",
   "metadata": {},
   "outputs": [
    {
     "name": "stdout",
     "output_type": "stream",
     "text": [
      "42\n",
      "6\n"
     ]
    }
   ],
   "source": [
    "print('4' + '2')\n",
    "print(int('4') + int('2'))"
   ]
  },
  {
   "cell_type": "code",
   "execution_count": null,
   "id": "5f4981f6-a64e-4f26-8e09-c001fd7d6d94",
   "metadata": {},
   "outputs": [],
   "source": []
  }
 ],
 "metadata": {
  "kernelspec": {
   "display_name": "Python 3",
   "language": "python",
   "name": "python3"
  },
  "language_info": {
   "codemirror_mode": {
    "name": "ipython",
    "version": 3
   },
   "file_extension": ".py",
   "mimetype": "text/x-python",
   "name": "python",
   "nbconvert_exporter": "python",
   "pygments_lexer": "ipython3",
   "version": "3.8.10"
  }
 },
 "nbformat": 4,
 "nbformat_minor": 5
}
