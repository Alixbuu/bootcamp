{
 "cells": [
  {
   "cell_type": "markdown",
   "id": "9eb548f2-f57c-4d2f-a5c8-7c0682a107ff",
   "metadata": {},
   "source": [
    "# 2.1\n"
   ]
  },
  {
   "cell_type": "code",
   "execution_count": 9,
   "id": "87208967-ad69-46b1-b891-4c26caadf87d",
   "metadata": {},
   "outputs": [],
   "source": [
    "# The sequence we want to analyze\n",
    "seq = 'GACAGACUCCAUGCACGUGGGUAUCUGUC'"
   ]
  },
  {
   "cell_type": "code",
   "execution_count": 10,
   "id": "6ae6b70d-97a4-419a-9d26-930240dcce77",
   "metadata": {},
   "outputs": [],
   "source": [
    "def complement_base(base,material='DNA'):\n",
    "    \"\"\"Returns the Watson-Crick complement of a base.\"\"\"\n",
    "    if base in 'Aa':\n",
    "        if material == 'DNA':\n",
    "            return 'T'\n",
    "        elif material == 'RNA':\n",
    "            return 'U'\n",
    "    elif base in 'TtUu':\n",
    "        return 'A'\n",
    "    elif base in 'Gg':\n",
    "        return 'C'\n",
    "    else:\n",
    "        return 'G'"
   ]
  },
  {
   "cell_type": "code",
   "execution_count": 13,
   "id": "e13a38ac-901f-44c0-abe1-f18a12a63771",
   "metadata": {},
   "outputs": [],
   "source": [
    "def reverse_complement(base,material ='DNA'):\n",
    "    reversed_seq= seq[-1::-1]\n",
    "    rev_seq= ''\n",
    "    for base in reversed_seq:\n",
    "        rev_seq+=complement_base(base, material=material)\n",
    "\n",
    "    return rev_seq\n",
    "    "
   ]
  },
  {
   "cell_type": "code",
   "execution_count": 14,
   "id": "68df07e7-3442-49be-a317-62b8846b1432",
   "metadata": {},
   "outputs": [
    {
     "data": {
      "text/plain": [
       "'GACAGATACCCACGTGCATGGAGTCTGTC'"
      ]
     },
     "execution_count": 14,
     "metadata": {},
     "output_type": "execute_result"
    }
   ],
   "source": [
    "reverse_complement(seq,material='DNA')"
   ]
  },
  {
   "cell_type": "code",
   "execution_count": 17,
   "id": "fc39455f-7df4-4eb8-9a83-03efc35e43ee",
   "metadata": {},
   "outputs": [],
   "source": [
    "def display_complements(seq):\n",
    "    \"\"\"Print sequence above its reverse complement.\"\"\"\n",
    "    #compute the reverse_complement\n",
    "    rev_comp=reverse_complement(seq)\n",
    "    #print template\n",
    "    reversed_seq= seq[-1::-1]\n",
    "    print(reversed_seq)\n",
    "    #print base pairs\n",
    "    for base in seq:\n",
    "        print('|', end='')\n",
    "    #print reverse complement\n",
    "    print()\n",
    "    for base in rev_comp:\n",
    "        print(base,end ='')\n",
    "   \n",
    "    # Print final newline character\n",
    "    print()\n",
    "    "
   ]
  },
  {
   "cell_type": "code",
   "execution_count": 18,
   "id": "0ae80718-31aa-4270-9257-56d7d3af2b41",
   "metadata": {},
   "outputs": [
    {
     "name": "stdout",
     "output_type": "stream",
     "text": [
      "CUGUCUAUGGGUGCACGUACCUCAGACAG\n",
      "|||||||||||||||||||||||||||||\n",
      "GACAGATACCCACGTGCATGGAGTCTGTC\n"
     ]
    }
   ],
   "source": [
    "display_complements(seq)"
   ]
  },
  {
   "cell_type": "code",
   "execution_count": 36,
   "id": "9ab46faa-fa5c-4ced-a44c-35aed1d1eac4",
   "metadata": {},
   "outputs": [],
   "source": [
    "def reverse_complement_without(seq,material='RNA'):\n",
    "    seq_=seq.lower()\n",
    "    print(seq_)\n",
    "    seq_1= seq_.replace('u','A')\n",
    "    print(seq_1)\n",
    "    seq_2=seq_1.replace('a','T')\n",
    "    print(seq_2)\n",
    "    seq_3=seq_2.replace('g','C')\n",
    "    seq_4=seq_3.replace('c','G')\n",
    "    rev_seq=seq_4[-1::-1]\n",
    "    return rev_seq"
   ]
  },
  {
   "cell_type": "code",
   "execution_count": 37,
   "id": "c61ee235-ed87-4c64-a76a-400de12c1a31",
   "metadata": {},
   "outputs": [
    {
     "name": "stdout",
     "output_type": "stream",
     "text": [
      "gacagacuccaugcacguggguaucuguc\n",
      "gacagacAccaAgcacgAgggAaAcAgAc\n",
      "gTcTgTcAccTAgcTcgAgggATAcAgAc\n"
     ]
    },
    {
     "data": {
      "text/plain": [
       "'GACAGATACCCACGTGCATGGAGTCTGTC'"
      ]
     },
     "execution_count": 37,
     "metadata": {},
     "output_type": "execute_result"
    }
   ],
   "source": [
    "reverse_complement_without(seq,material='DNA')"
   ]
  },
  {
   "cell_type": "markdown",
   "id": "822320e0-7a85-4f9e-91b6-bed5f6708e75",
   "metadata": {},
   "source": [
    "# longest common substring"
   ]
  },
  {
   "cell_type": "code",
   "execution_count": 51,
   "id": "58d714bf-c857-4f86-b6ce-2547b201dcc6",
   "metadata": {},
   "outputs": [],
   "source": [
    "def longest_common_substring(seq1,seq2):\n",
    "    \"\"\" find the longest common substring between sequences \"\"\"\n",
    "    shorter=seq1\n",
    "    longer=seq2\n",
    "    #initialize my longest substring\n",
    "    long_substring=''\n",
    "    #switch if seq1 is longer\n",
    "    if len(shorter)> len(longer):\n",
    "        shorter,longer= longer,shorter\n",
    "    # i will go from 0 to len-1\n",
    "    for i, _ in enumerate(shorter):\n",
    "        for k in range(0,len(shorter)-i+1):\n",
    "            if shorter[i:i+k] in longer:\n",
    "                #temporary variable to store substring\n",
    "                temp= shorter[i:i+k]\n",
    "                #compare my temporary with my longest substring stored if longer change longest substring by value of temp\n",
    "                if len(long_substring) < len(temp):\n",
    "                    long_substring=temp\n",
    "                    \n",
    "            \n",
    "        \n",
    "        \n",
    "    return long_substring"
   ]
  },
  {
   "cell_type": "code",
   "execution_count": 52,
   "id": "51c758f5-af2c-4c4f-82e2-b9f0041afee4",
   "metadata": {},
   "outputs": [
    {
     "name": "stdout",
     "output_type": "stream",
     "text": [
      "\n",
      "a\n",
      "at\n",
      "at\n",
      "at\n",
      "at\n",
      "at\n",
      "at\n",
      "atc\n",
      "atc\n",
      "atc\n",
      "atc\n",
      "atc\n",
      "atc\n"
     ]
    },
    {
     "data": {
      "text/plain": [
       "'atc'"
      ]
     },
     "execution_count": 52,
     "metadata": {},
     "output_type": "execute_result"
    }
   ],
   "source": [
    "seq1='atatc'\n",
    "seq2='atcatcg'\n",
    "longest_common_substring(seq1,seq2)"
   ]
  },
  {
   "cell_type": "code",
   "execution_count": 53,
   "id": "e0fb520b-98e3-42d3-8db1-22143f729d29",
   "metadata": {},
   "outputs": [
    {
     "name": "stdout",
     "output_type": "stream",
     "text": [
      "\n",
      "A\n",
      "AT\n",
      "ATG\n",
      "ATGC\n",
      "ATGC\n",
      "ATGC\n",
      "ATGC\n",
      "ATGC\n",
      "ATGC\n",
      "ATGC\n",
      "ATGC\n",
      "ATGC\n",
      "ATGC\n"
     ]
    },
    {
     "data": {
      "text/plain": [
       "'ATGC'"
      ]
     },
     "execution_count": 53,
     "metadata": {},
     "output_type": "execute_result"
    }
   ],
   "source": [
    "longest_common_substring('ATGC', 'ATGCA')"
   ]
  },
  {
   "cell_type": "code",
   "execution_count": 54,
   "id": "80c563f9-6fb0-4f57-a0b4-696fde0c7043",
   "metadata": {},
   "outputs": [
    {
     "name": "stdout",
     "output_type": "stream",
     "text": [
      "\n",
      "A\n",
      "AT\n",
      "ATG\n",
      "ATGC\n",
      "ATGCC\n",
      "ATGCC\n",
      "ATGCC\n",
      "ATGCC\n",
      "ATGCC\n",
      "ATGCC\n",
      "ATGCC\n",
      "ATGCC\n",
      "ATGCC\n",
      "ATGCC\n",
      "ATGCC\n",
      "ATGCC\n",
      "ATGCC\n",
      "ATGCC\n",
      "ATGCC\n"
     ]
    },
    {
     "data": {
      "text/plain": [
       "'ATGCC'"
      ]
     },
     "execution_count": 54,
     "metadata": {},
     "output_type": "execute_result"
    }
   ],
   "source": [
    "longest_common_substring('GATGCCATGCA', 'ATGCC')"
   ]
  },
  {
   "cell_type": "code",
   "execution_count": 55,
   "id": "ef9ff8a2-898b-4607-89a5-c27131dadf47",
   "metadata": {},
   "outputs": [
    {
     "name": "stdout",
     "output_type": "stream",
     "text": [
      "\n",
      "A\n",
      "AC\n",
      "ACG\n",
      "ACGT\n",
      "ACGT\n",
      "ACGT\n",
      "ACGT\n",
      "ACGT\n",
      "ACGT\n",
      "ACGT\n",
      "ACGT\n",
      "ACGT\n",
      "ACGT\n",
      "ACGT\n",
      "ACGT\n",
      "ACGT\n",
      "ACGT\n",
      "ACGT\n",
      "ACGT\n",
      "ACGT\n",
      "ACGT\n",
      "ACGT\n",
      "ACGT\n",
      "ACGT\n",
      "ACGT\n",
      "ACGT\n",
      "ACGT\n",
      "ACGT\n",
      "ACGT\n",
      "ACGT\n",
      "ACGT\n",
      "ACGT\n",
      "ACGT\n",
      "ACGT\n",
      "ACGT\n"
     ]
    },
    {
     "data": {
      "text/plain": [
       "'ACGT'"
      ]
     },
     "execution_count": 55,
     "metadata": {},
     "output_type": "execute_result"
    }
   ],
   "source": [
    "longest_common_substring('ACGTGGAAAGCCA', 'GTACACACGTTTTGAGAGACAC')"
   ]
  },
  {
   "cell_type": "code",
   "execution_count": null,
   "id": "e5dfa8b2-a7e1-455a-aa01-e28f0b6504c1",
   "metadata": {},
   "outputs": [],
   "source": []
  }
 ],
 "metadata": {
  "kernelspec": {
   "display_name": "Python 3",
   "language": "python",
   "name": "python3"
  },
  "language_info": {
   "codemirror_mode": {
    "name": "ipython",
    "version": 3
   },
   "file_extension": ".py",
   "mimetype": "text/x-python",
   "name": "python",
   "nbconvert_exporter": "python",
   "pygments_lexer": "ipython3",
   "version": "3.8.10"
  }
 },
 "nbformat": 4,
 "nbformat_minor": 5
}
