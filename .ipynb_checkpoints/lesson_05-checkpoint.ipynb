{
 "cells": [
  {
   "cell_type": "markdown",
   "id": "2f69099f-3a2f-4e50-8e43-33abdc5d4932",
   "metadata": {},
   "source": [
    "# List"
   ]
  },
  {
   "cell_type": "code",
   "execution_count": 1,
   "id": "8a5fa9a0-2f37-43d1-a7e4-41462aa5db77",
   "metadata": {},
   "outputs": [
    {
     "data": {
      "text/plain": [
       "list"
      ]
     },
     "execution_count": 1,
     "metadata": {},
     "output_type": "execute_result"
    }
   ],
   "source": [
    "my_list_1 = [1, 2, 3, 4]\n",
    "type(my_list_1)"
   ]
  },
  {
   "cell_type": "code",
   "execution_count": 2,
   "id": "37143ed3-de1f-417d-a769-e68d427d7bd8",
   "metadata": {},
   "outputs": [
    {
     "data": {
      "text/plain": [
       "[1, 2.4, 'a string', ['a string in another list', 5]]"
      ]
     },
     "execution_count": 2,
     "metadata": {},
     "output_type": "execute_result"
    }
   ],
   "source": [
    "my_list_2 = [1, 2.4, 'a string', ['a string in another list', 5]]\n",
    "my_list_2"
   ]
  },
  {
   "cell_type": "code",
   "execution_count": 3,
   "id": "221e8ee8-f228-4f16-bffa-59dc74595f4e",
   "metadata": {},
   "outputs": [
    {
     "data": {
      "text/plain": [
       "[5, 15, 16]"
      ]
     },
     "execution_count": 3,
     "metadata": {},
     "output_type": "execute_result"
    }
   ],
   "source": [
    "my_list_3 = [2+3, 5*3, 4**2]\n",
    "my_list_3"
   ]
  },
  {
   "cell_type": "code",
   "execution_count": 5,
   "id": "b8db5425-2992-4389-94aa-ca22fc5b818c",
   "metadata": {},
   "outputs": [],
   "source": [
    "my_str=\"A string\""
   ]
  },
  {
   "cell_type": "code",
   "execution_count": 6,
   "id": "a0a85894-8feb-4d99-ac77-6cd41aaa945c",
   "metadata": {},
   "outputs": [
    {
     "data": {
      "text/plain": [
       "['A', ' ', 's', 't', 'r', 'i', 'n', 'g']"
      ]
     },
     "execution_count": 6,
     "metadata": {},
     "output_type": "execute_result"
    }
   ],
   "source": [
    "list(my_str)"
   ]
  },
  {
   "cell_type": "markdown",
   "id": "9841a57f-31f6-49c3-a935-d8b5a9c067ce",
   "metadata": {},
   "source": [
    "# list operators"
   ]
  },
  {
   "cell_type": "code",
   "execution_count": 7,
   "id": "4d86654a-0cbe-42ec-bef9-2b2aecf6bbb0",
   "metadata": {},
   "outputs": [
    {
     "data": {
      "text/plain": [
       "[1, 2, 3, 4, 5, 6]"
      ]
     },
     "execution_count": 7,
     "metadata": {},
     "output_type": "execute_result"
    }
   ],
   "source": [
    "[1, 2, 3] + [4, 5, 6]\n"
   ]
  },
  {
   "cell_type": "code",
   "execution_count": 8,
   "id": "68cd3eb8-2d11-4ce8-a1e5-277de6ee3095",
   "metadata": {},
   "outputs": [
    {
     "data": {
      "text/plain": [
       "[1, 2, 3, 1, 2, 3, 1, 2, 3]"
      ]
     },
     "execution_count": 8,
     "metadata": {},
     "output_type": "execute_result"
    }
   ],
   "source": [
    "[1, 2, 3] * 3"
   ]
  },
  {
   "cell_type": "code",
   "execution_count": 9,
   "id": "3c611035-a834-4767-b21d-c0a5ccccaa5d",
   "metadata": {},
   "outputs": [
    {
     "data": {
      "text/plain": [
       "True"
      ]
     },
     "execution_count": 9,
     "metadata": {},
     "output_type": "execute_result"
    }
   ],
   "source": [
    "1 in my_list_2"
   ]
  },
  {
   "cell_type": "code",
   "execution_count": 10,
   "id": "d9c02f15-0634-4e6f-8ed8-77f6258f12bd",
   "metadata": {},
   "outputs": [
    {
     "data": {
      "text/plain": [
       "True"
      ]
     },
     "execution_count": 10,
     "metadata": {},
     "output_type": "execute_result"
    }
   ],
   "source": [
    "['a string in another list', 5] in my_list_2"
   ]
  },
  {
   "cell_type": "code",
   "execution_count": 12,
   "id": "a7a46367-be43-416f-87c5-5478eaaa2e0c",
   "metadata": {},
   "outputs": [
    {
     "data": {
      "text/plain": [
       "False"
      ]
     },
     "execution_count": 12,
     "metadata": {},
     "output_type": "execute_result"
    }
   ],
   "source": [
    "'a string in another list' in my_list_2"
   ]
  },
  {
   "cell_type": "code",
   "execution_count": 13,
   "id": "ab19b3d9-cf16-4740-9caa-394450ad4a3a",
   "metadata": {},
   "outputs": [
    {
     "data": {
      "text/plain": [
       "True"
      ]
     },
     "execution_count": 13,
     "metadata": {},
     "output_type": "execute_result"
    }
   ],
   "source": [
    "7 not in my_list_2"
   ]
  },
  {
   "cell_type": "code",
   "execution_count": 14,
   "id": "a47c9072-ad3b-4786-b597-ea60291c0811",
   "metadata": {},
   "outputs": [
    {
     "name": "stdout",
     "output_type": "stream",
     "text": [
      "This codon is neither a start nor stop codon.\n"
     ]
    }
   ],
   "source": [
    "# Make a list of stop codons\n",
    "stop_codons = ['UAA', 'UAG', 'UGA']\n",
    "\n",
    "# Specify codon\n",
    "codon = 'UGG'\n",
    "\n",
    "# Check to see if it is a start or stop codon\n",
    "if codon == 'AUG':\n",
    "    print('This codon is the start codon.')\n",
    "elif codon in stop_codons:\n",
    "    print('This codon is a stop codon.')\n",
    "else:\n",
    "    print('This codon is neither a start nor stop codon.')"
   ]
  },
  {
   "cell_type": "markdown",
   "id": "44acd2d6-7f46-43dd-8b3e-c6ffd2cc491c",
   "metadata": {},
   "source": [
    "# List indexing"
   ]
  },
  {
   "cell_type": "code",
   "execution_count": 15,
   "id": "20c0f2c5-4428-481a-ae73-0476e4bb56e0",
   "metadata": {},
   "outputs": [],
   "source": [
    "my_list = [1, 2.4, 'a string', ['a string in another list', 5]]"
   ]
  },
  {
   "cell_type": "code",
   "execution_count": 16,
   "id": "00d7114d-04e3-45fc-a49d-65b072a916f4",
   "metadata": {},
   "outputs": [
    {
     "data": {
      "text/plain": [
       "'a string'"
      ]
     },
     "execution_count": 16,
     "metadata": {},
     "output_type": "execute_result"
    }
   ],
   "source": [
    "my_list[2]"
   ]
  },
  {
   "cell_type": "code",
   "execution_count": 17,
   "id": "6a08d4dc-0020-492a-a44e-aabd31a335ca",
   "metadata": {},
   "outputs": [
    {
     "data": {
      "text/plain": [
       "1"
      ]
     },
     "execution_count": 17,
     "metadata": {},
     "output_type": "execute_result"
    }
   ],
   "source": [
    "my_list[0]"
   ]
  },
  {
   "cell_type": "code",
   "execution_count": 19,
   "id": "020c3a9f-38fa-4e58-897e-98979e0d29ad",
   "metadata": {},
   "outputs": [
    {
     "data": {
      "text/plain": [
       "['a string in another list', 5]"
      ]
     },
     "execution_count": 19,
     "metadata": {},
     "output_type": "execute_result"
    }
   ],
   "source": [
    "my_list[3]"
   ]
  },
  {
   "cell_type": "code",
   "execution_count": 20,
   "id": "8e03b69e-aa92-470c-8583-8945bb1d02ff",
   "metadata": {},
   "outputs": [
    {
     "data": {
      "text/plain": [
       "'a string in another list'"
      ]
     },
     "execution_count": 20,
     "metadata": {},
     "output_type": "execute_result"
    }
   ],
   "source": [
    "my_list[3][0]"
   ]
  },
  {
   "cell_type": "code",
   "execution_count": 21,
   "id": "62f0344a-41c0-4f8a-ac26-5beb8ba1b0dd",
   "metadata": {},
   "outputs": [],
   "source": [
    "my_list = [0, 1, 2, 3, 4, 5, 6, 7, 8, 9, 10]"
   ]
  },
  {
   "cell_type": "code",
   "execution_count": 22,
   "id": "7239efcf-7120-42bf-a7ce-0e6e5e1ca7b5",
   "metadata": {},
   "outputs": [
    {
     "data": {
      "text/plain": [
       "4"
      ]
     },
     "execution_count": 22,
     "metadata": {},
     "output_type": "execute_result"
    }
   ],
   "source": [
    "my_list[4]"
   ]
  },
  {
   "cell_type": "code",
   "execution_count": 23,
   "id": "0cc01977-1dca-4250-bf43-211eb5fb052f",
   "metadata": {},
   "outputs": [
    {
     "data": {
      "text/plain": [
       "10"
      ]
     },
     "execution_count": 23,
     "metadata": {},
     "output_type": "execute_result"
    }
   ],
   "source": [
    "my_list[-1]"
   ]
  },
  {
   "cell_type": "code",
   "execution_count": 24,
   "id": "a6e5bf20-2fb0-4354-a335-96ad9eba073f",
   "metadata": {},
   "outputs": [
    {
     "data": {
      "text/plain": [
       "6"
      ]
     },
     "execution_count": 24,
     "metadata": {},
     "output_type": "execute_result"
    }
   ],
   "source": [
    "my_list[-5]"
   ]
  },
  {
   "cell_type": "markdown",
   "id": "d79f5c77-af1e-4f82-bd86-fd9da2331d33",
   "metadata": {},
   "source": [
    "# slicing"
   ]
  },
  {
   "cell_type": "code",
   "execution_count": 25,
   "id": "ee5710cc-f74b-426d-8de4-d982091f614a",
   "metadata": {},
   "outputs": [
    {
     "data": {
      "text/plain": [
       "[0, 1, 2, 3, 4]"
      ]
     },
     "execution_count": 25,
     "metadata": {},
     "output_type": "execute_result"
    }
   ],
   "source": [
    "my_list[0:5]\n"
   ]
  },
  {
   "cell_type": "code",
   "execution_count": 26,
   "id": "c1fb1395-f20f-4e30-8708-760acc89f741",
   "metadata": {},
   "outputs": [
    {
     "data": {
      "text/plain": [
       "[3, 4, 5, 6, 7, 8, 9, 10]"
      ]
     },
     "execution_count": 26,
     "metadata": {},
     "output_type": "execute_result"
    }
   ],
   "source": [
    "my_list[3:1000]"
   ]
  },
  {
   "cell_type": "code",
   "execution_count": 27,
   "id": "e9ef9a76-88e4-4867-b9aa-e7fcd991b3f2",
   "metadata": {},
   "outputs": [
    {
     "data": {
      "text/plain": [
       "[0, 1, 2, 3, 4, 5, 6, 7]"
      ]
     },
     "execution_count": 27,
     "metadata": {},
     "output_type": "execute_result"
    }
   ],
   "source": [
    "my_list[0:-3]"
   ]
  },
  {
   "cell_type": "code",
   "execution_count": 28,
   "id": "acdf3224-b67e-4a0e-afaf-2579fd4e64f4",
   "metadata": {},
   "outputs": [
    {
     "data": {
      "text/plain": [
       "[0, 2, 4, 6, 8, 10]"
      ]
     },
     "execution_count": 28,
     "metadata": {},
     "output_type": "execute_result"
    }
   ],
   "source": [
    "my_list[0::2]"
   ]
  },
  {
   "cell_type": "code",
   "execution_count": 29,
   "id": "f573dcc2-d3e0-49f5-a5a2-4c787869d13b",
   "metadata": {},
   "outputs": [
    {
     "data": {
      "text/plain": [
       "[0, 2, 4, 6, 8, 10]"
      ]
     },
     "execution_count": 29,
     "metadata": {},
     "output_type": "execute_result"
    }
   ],
   "source": [
    "my_list[::2]"
   ]
  },
  {
   "cell_type": "code",
   "execution_count": 30,
   "id": "2550240f-10d8-4eb8-89f8-50daa00fd00f",
   "metadata": {},
   "outputs": [
    {
     "data": {
      "text/plain": [
       "[0, 2, 4, 6, 8]"
      ]
     },
     "execution_count": 30,
     "metadata": {},
     "output_type": "execute_result"
    }
   ],
   "source": [
    "my_list[0:10:2]"
   ]
  },
  {
   "cell_type": "code",
   "execution_count": 31,
   "id": "68eb7204-c33b-47a1-92c2-613bbcdb1ff1",
   "metadata": {},
   "outputs": [
    {
     "data": {
      "text/plain": [
       "[10, 9, 8, 7, 6, 5, 4, 3, 2, 1, 0]"
      ]
     },
     "execution_count": 31,
     "metadata": {},
     "output_type": "execute_result"
    }
   ],
   "source": [
    "my_list[::-1]"
   ]
  },
  {
   "cell_type": "code",
   "execution_count": 32,
   "id": "7b0198ed-f1b0-4a96-aba0-6a96341eb20e",
   "metadata": {},
   "outputs": [
    {
     "name": "stdout",
     "output_type": "stream",
     "text": [
      "[2, 4, 6, 8, 10]\n",
      "[2, 4, 6, 8]\n",
      "[9, 7, 5, 3, 1]\n",
      "[9, 7, 5, 3]\n",
      "[]\n"
     ]
    }
   ],
   "source": [
    "print(my_list[2::2])\n",
    "print(my_list[2:-1:2])\n",
    "print(my_list[-2::-2])\n",
    "print(my_list[-2:2:-2])\n",
    "print(my_list[2:2:-2])"
   ]
  },
  {
   "cell_type": "code",
   "execution_count": 33,
   "id": "dd81d794-c557-4b79-88bf-1386ce3ceb90",
   "metadata": {},
   "outputs": [
    {
     "data": {
      "text/plain": [
       "[2, 4, 6, 8]"
      ]
     },
     "execution_count": 33,
     "metadata": {},
     "output_type": "execute_result"
    }
   ],
   "source": [
    "# Extract evens\n",
    "evens = my_list[::2]\n",
    "\n",
    "# Cut off end values\n",
    "evens_without_end_values = evens[1:-1]\n",
    "\n",
    "evens_without_end_values\n"
   ]
  },
  {
   "cell_type": "markdown",
   "id": "09ac849c-f7b8-4946-b873-cb518237bc6b",
   "metadata": {},
   "source": [
    "# Mutability"
   ]
  },
  {
   "cell_type": "code",
   "execution_count": null,
   "id": "d250652c-064e-436f-adb4-1861dcc090a0",
   "metadata": {},
   "outputs": [],
   "source": []
  }
 ],
 "metadata": {
  "kernelspec": {
   "display_name": "Python 3",
   "language": "python",
   "name": "python3"
  },
  "language_info": {
   "codemirror_mode": {
    "name": "ipython",
    "version": 3
   },
   "file_extension": ".py",
   "mimetype": "text/x-python",
   "name": "python",
   "nbconvert_exporter": "python",
   "pygments_lexer": "ipython3",
   "version": "3.8.10"
  }
 },
 "nbformat": 4,
 "nbformat_minor": 5
}
