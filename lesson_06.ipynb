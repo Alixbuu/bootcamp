{
 "cells": [
  {
   "cell_type": "markdown",
   "id": "d138597b-635a-4c00-83b2-99dde77cd4f8",
   "metadata": {},
   "source": [
    "# iterations"
   ]
  },
  {
   "cell_type": "code",
   "execution_count": 3,
   "id": "06b7b67d-f514-4317-8e40-61ba6d3c3aff",
   "metadata": {},
   "outputs": [
    {
     "data": {
      "text/plain": [
       "0.5517241379310345"
      ]
     },
     "execution_count": 3,
     "metadata": {},
     "output_type": "execute_result"
    }
   ],
   "source": [
    "# The sequence we want to analyze\n",
    "seq = 'GACAGACUCCAUGCACGUGGGUAUCUGUC'\n",
    "\n",
    "# Initialize GC counter\n",
    "n_gc = 0\n",
    "\n",
    "# Initialize sequence length\n",
    "len_seq = 0\n",
    "\n",
    "#loop through the sequence and count the G's and C's\n",
    "for base in seq:\n",
    "    len_seq += 1\n",
    "    if base in \"GCgc\":\n",
    "        n_gc +=1\n",
    "# divide by length of seq\n",
    "n_gc/len_seq\n"
   ]
  },
  {
   "cell_type": "code",
   "execution_count": 2,
   "id": "bd731e20-aa07-4aff-bee3-ac8d6235fa7f",
   "metadata": {},
   "outputs": [
    {
     "data": {
      "text/plain": [
       "True"
      ]
     },
     "execution_count": 2,
     "metadata": {},
     "output_type": "execute_result"
    }
   ],
   "source": [
    "\"g\" in \"GCgc\""
   ]
  },
  {
   "cell_type": "code",
   "execution_count": 4,
   "id": "f58ff3b6-8a82-4eda-b9ac-628551fa90cd",
   "metadata": {},
   "outputs": [
    {
     "data": {
      "text/plain": [
       "29"
      ]
     },
     "execution_count": 4,
     "metadata": {},
     "output_type": "execute_result"
    }
   ],
   "source": [
    "len(seq)"
   ]
  },
  {
   "cell_type": "code",
   "execution_count": 5,
   "id": "bef2bd95-9795-40c2-a06d-cb4072618042",
   "metadata": {},
   "outputs": [
    {
     "data": {
      "text/plain": [
       "[1, 2, 3, 4, 5]"
      ]
     },
     "execution_count": 5,
     "metadata": {},
     "output_type": "execute_result"
    }
   ],
   "source": [
    "# We'll do one through 5\n",
    "my_integers = [1, 2, 3, 4, 5]\n",
    "\n",
    "# Double each one\n",
    "for n in my_integers:\n",
    "    n *= 2\n",
    "\n",
    "# Check out the result\n",
    "my_integers"
   ]
  },
  {
   "cell_type": "code",
   "execution_count": 6,
   "id": "9b97f18c-2290-47e3-8d39-999a2a4784b0",
   "metadata": {},
   "outputs": [
    {
     "name": "stdout",
     "output_type": "stream",
     "text": [
      "0  1  2  3  4  5  6  7  8  9  "
     ]
    }
   ],
   "source": [
    "for i in range(10):\n",
    "    print(i, end='  ')"
   ]
  },
  {
   "cell_type": "code",
   "execution_count": 7,
   "id": "d75b1bd5-ba3b-4bfa-aa29-3fbf97a9d1db",
   "metadata": {},
   "outputs": [
    {
     "name": "stdout",
     "output_type": "stream",
     "text": [
      "2  3  4  5  6  7  8  9  \n",
      "2     4     6     8     "
     ]
    }
   ],
   "source": [
    "for i in range(2, 10):\n",
    "    print(i, end='  ')\n",
    "\n",
    "# Print a newline\n",
    "print()\n",
    "\n",
    "# Print even numbers, 2 through 9\n",
    "for i in range(2, 10, 2):\n",
    "    print(i, end='     ')"
   ]
  },
  {
   "cell_type": "code",
   "execution_count": 8,
   "id": "993db9f7-c025-4789-a8c7-1f855838eb0f",
   "metadata": {},
   "outputs": [
    {
     "data": {
      "text/plain": [
       "[0, 1, 2, 3, 4, 5, 6, 7, 8, 9]"
      ]
     },
     "execution_count": 8,
     "metadata": {},
     "output_type": "execute_result"
    }
   ],
   "source": [
    "list(range(10))"
   ]
  },
  {
   "cell_type": "code",
   "execution_count": 9,
   "id": "16d64776-e2cf-4fa0-8759-cf5513142bf0",
   "metadata": {},
   "outputs": [
    {
     "data": {
      "text/plain": [
       "[2, 4, 6, 8, 10]"
      ]
     },
     "execution_count": 9,
     "metadata": {},
     "output_type": "execute_result"
    }
   ],
   "source": [
    "my_integers = [1, 2, 3, 4, 5]\n",
    "\n",
    "# Since len(my_integers) = 5, this takes i from 0 to 4,\n",
    "# exactly the indices of my_integers\n",
    "for i in range(len(my_integers)):\n",
    "    my_integers[i] *= 2\n",
    "\n",
    "my_integers\n"
   ]
  },
  {
   "cell_type": "code",
   "execution_count": 10,
   "id": "2fc4327f-0009-4ab4-9af1-17ae469b4e1b",
   "metadata": {},
   "outputs": [
    {
     "name": "stdout",
     "output_type": "stream",
     "text": [
      "0  4  12  16  18  19  20  26  "
     ]
    }
   ],
   "source": [
    "# Initialize GC counter\n",
    "n_gc = 0\n",
    "\n",
    "# Initialize GC counter\n",
    "n_gc = 0\n",
    "\n",
    "# Initialized sequence length\n",
    "len_seq = 0\n",
    "\n",
    "# Loop through sequence and print index of G's\n",
    "for base in seq:\n",
    "    if base in 'Gg':\n",
    "\n",
    "# Loop through sequence and print index of G's\n",
    "for base in seq:\n",
    "    if base in 'Gg':\n",
    "        print(len_seq, end='  ')\n",
    "    len_seq += 1"
   ]
  },
  {
   "cell_type": "code",
   "execution_count": 12,
   "id": "4d1695a5-b921-4455-9abd-4cb5f8785754",
   "metadata": {},
   "outputs": [
    {
     "name": "stdout",
     "output_type": "stream",
     "text": [
      "0 4 12 16 18 19 20 26 "
     ]
    }
   ],
   "source": [
    "#enumerate function\n",
    "# Initialize G counter\n",
    "n_g = 0\n",
    "\n",
    "\n",
    "\n",
    "# Loop through sequence and print index of G's\n",
    "for i, base in enumerate(seq):\n",
    "    if base in 'Gg':\n",
    "        print(i,end=\" \")\n",
    "        \n",
    "        \n",
    "        \n",
    "        "
   ]
  },
  {
   "cell_type": "code",
   "execution_count": 13,
   "id": "9c005656-c203-4bc7-8eee-986e5e1be568",
   "metadata": {},
   "outputs": [
    {
     "name": "stdout",
     "output_type": "stream",
     "text": [
      "0 G\n",
      "1 A\n",
      "2 C\n",
      "3 A\n",
      "4 G\n",
      "5 A\n",
      "6 C\n",
      "7 U\n",
      "8 C\n",
      "9 C\n",
      "10 A\n",
      "11 U\n",
      "12 G\n",
      "13 C\n",
      "14 A\n",
      "15 C\n",
      "16 G\n",
      "17 U\n",
      "18 G\n",
      "19 G\n",
      "20 G\n",
      "21 U\n",
      "22 A\n",
      "23 U\n",
      "24 C\n",
      "25 U\n",
      "26 G\n",
      "27 U\n",
      "28 C\n"
     ]
    }
   ],
   "source": [
    "# Print index and identity of bases\n",
    "for i, base in enumerate(seq):\n",
    "    print(i, base)"
   ]
  },
  {
   "cell_type": "code",
   "execution_count": 14,
   "id": "eae7e212-f8ad-4e26-bc12-e21a23117c57",
   "metadata": {},
   "outputs": [
    {
     "data": {
      "text/plain": [
       "[0, 2, 4, 6, 8, 10, 12]"
      ]
     },
     "execution_count": 14,
     "metadata": {},
     "output_type": "execute_result"
    }
   ],
   "source": [
    "my_integers= [0,1,2,3,4,5,6]\n",
    "\n",
    "for i,_ in enumerate(my_integers):\n",
    "    my_integers[i]*=2\n",
    "\n",
    "my_integers\n"
   ]
  },
  {
   "cell_type": "code",
   "execution_count": 16,
   "id": "715c4228-7057-479e-ab2f-061838383899",
   "metadata": {},
   "outputs": [
    {
     "name": "stdout",
     "output_type": "stream",
     "text": [
      "19 Dunn D\n",
      "8 Ertz MF\n",
      "16 Lavelle MF\n",
      "15 Rapinoe F\n"
     ]
    }
   ],
   "source": [
    "names = ('Dunn', 'Ertz', 'Lavelle', 'Rapinoe')\n",
    "positions = ('D', 'MF', 'MF', 'F')\n",
    "numbers = (19, 8, 16, 15)\n",
    "\n",
    "for num, pos, name in zip(numbers, positions, names):\n",
    "    print(num, name, pos)"
   ]
  },
  {
   "cell_type": "code",
   "execution_count": 17,
   "id": "639d6e6b-63e7-4a99-9bcd-640a55dded00",
   "metadata": {},
   "outputs": [
    {
     "name": "stdout",
     "output_type": "stream",
     "text": [
      "10\n",
      "9\n",
      "8\n",
      "7\n",
      "6\n",
      "5\n",
      "4\n",
      "3\n",
      "2\n",
      "1\n",
      "ignition\n"
     ]
    }
   ],
   "source": [
    "count_up = ('ignition', 1, 2, 3, 4, 5, 6, 7, 8 ,9, 10)\n",
    "\n",
    "for count in reversed(count_up):\n",
    "    print(count)"
   ]
  },
  {
   "cell_type": "markdown",
   "id": "891f100f-09da-4e24-831f-1be1d49376e6",
   "metadata": {},
   "source": [
    "# While"
   ]
  },
  {
   "cell_type": "code",
   "execution_count": 19,
   "id": "7fb1fb57-0e6a-46a8-b937-a662951c64f1",
   "metadata": {},
   "outputs": [
    {
     "name": "stdout",
     "output_type": "stream",
     "text": [
      "the start codon start at index 10\n"
     ]
    }
   ],
   "source": [
    "# Define start codon\n",
    "start_codon = 'AUG'\n",
    "\n",
    "# Initialize sequence index\n",
    "i = 0\n",
    "#scan seq until stop codon\n",
    "while seq[i:i+3] != start_codon:\n",
    "    i+=1\n",
    "#show the result\n",
    "print(\"the start codon start at index\",i)"
   ]
  },
  {
   "cell_type": "code",
   "execution_count": 23,
   "id": "d69a7724-3361-4608-a244-1f01bbd2de60",
   "metadata": {},
   "outputs": [
    {
     "name": "stdout",
     "output_type": "stream",
     "text": [
      "Codon not found in sequence.\n"
     ]
    }
   ],
   "source": [
    "# Define codon of interest\n",
    "codon = 'GCC'\n",
    "\n",
    "# Initialize sequence index\n",
    "i = 0\n",
    "\n",
    "# Scan sequence until we hit the start codon or the end of the sequence\n",
    "while seq[i:i+3] != codon and i < len(seq):\n",
    "    i += 1\n",
    "\n",
    "# Show the result\n",
    "if i == len(seq):\n",
    "        print('Codon not found in sequence.')\n",
    "else:\n",
    "        print('The codon starts at index', i)"
   ]
  },
  {
   "cell_type": "markdown",
   "id": "ad60fb19-a543-478c-918e-74c88915c73b",
   "metadata": {},
   "source": [
    "# break and else"
   ]
  },
  {
   "cell_type": "code",
   "execution_count": 24,
   "id": "a885dac5-e58a-44ef-aed3-8024c5cc2938",
   "metadata": {},
   "outputs": [
    {
     "name": "stdout",
     "output_type": "stream",
     "text": [
      "The start codon starts at index 10\n"
     ]
    }
   ],
   "source": [
    "# Define start codon\n",
    "start_codon = 'AUG'\n",
    "\n",
    "# Scan sequence until we hit the start codon\n",
    "for i in range(len(seq)):\n",
    "    if seq[i:i+3] == start_codon:\n",
    "        print('The start codon starts at index', i)\n",
    "        break\n",
    "else:\n",
    "    print('Codon not found in sequence.')"
   ]
  },
  {
   "cell_type": "code",
   "execution_count": 57,
   "id": "4b9bbb94-57cb-4cb6-bfd7-7e4e8f6b0c50",
   "metadata": {},
   "outputs": [
    {
     "name": "stdout",
     "output_type": "stream",
     "text": [
      "[6, 5, 3, 2, 0]\n",
      "[8, 7, 5, 4, 2]\n"
     ]
    }
   ],
   "source": [
    "my_integers= [0,2,3,5,6]\n",
    "my_integers_reversed= my_integers[-1::-1]\n",
    "print(my_integers_reversed)\n",
    "for i, _ in enumerate(my_integers_reversed):\n",
    "    my_integers_reversed[i]+=2\n",
    "\n",
    "print(my_integers_reversed)\n",
    "   \n",
    "        \n",
    "    \n"
   ]
  },
  {
   "cell_type": "code",
   "execution_count": 41,
   "id": "62ab85df-a9aa-4be8-8027-3fe328dd8d19",
   "metadata": {},
   "outputs": [
    {
     "data": {
      "text/plain": [
       "[6, 5, 3, 2, 0]"
      ]
     },
     "execution_count": 41,
     "metadata": {},
     "output_type": "execute_result"
    }
   ],
   "source": [
    "my_integers[-1::-1]"
   ]
  },
  {
   "cell_type": "code",
   "execution_count": null,
   "id": "d3eef0f6-ef10-4184-a0fe-5a13fd29c2af",
   "metadata": {},
   "outputs": [],
   "source": []
  }
 ],
 "metadata": {
  "kernelspec": {
   "display_name": "Python 3",
   "language": "python",
   "name": "python3"
  },
  "language_info": {
   "codemirror_mode": {
    "name": "ipython",
    "version": 3
   },
   "file_extension": ".py",
   "mimetype": "text/x-python",
   "name": "python",
   "nbconvert_exporter": "python",
   "pygments_lexer": "ipython3",
   "version": "3.8.10"
  }
 },
 "nbformat": 4,
 "nbformat_minor": 5
}
